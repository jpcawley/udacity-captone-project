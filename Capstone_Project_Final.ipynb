{
 "cells": [
  {
   "cell_type": "markdown",
   "metadata": {
    "editable": true
   },
   "source": [
    "# People Names and Storms, Any Correlation?\n",
    "### Data Engineering Capstone Project\n",
    "\n",
    "#### Project Summary\n",
    "Build an ETL pipeline that pulls publicly available state, baby name, and storm datasets into an S3 bucket, processes it with Spark, and writes it back to S3 as a set of dimension and fact tables.\n",
    "\n",
    "The project follows the follow steps:\n",
    "* Step 1: Scope the Project and Gather Data\n",
    "* Step 2: Explore and Assess the Data\n",
    "* Step 3: Define the Data Model\n",
    "* Step 4: Run ETL to Model the Data\n",
    "* Step 5: Complete Project Write Up"
   ]
  },
  {
   "cell_type": "code",
   "execution_count": 1,
   "metadata": {
    "editable": true,
    "execution": {
     "iopub.execute_input": "2022-10-17T23:06:49.965007Z",
     "iopub.status.busy": "2022-10-17T23:06:49.964313Z",
     "iopub.status.idle": "2022-10-17T23:07:45.493967Z",
     "shell.execute_reply": "2022-10-17T23:07:45.492588Z",
     "shell.execute_reply.started": "2022-10-17T23:06:49.964965Z"
    },
    "tags": []
   },
   "outputs": [
    {
     "data": {
      "application/vnd.jupyter.widget-view+json": {
       "model_id": "5fbfd132286f4ab2836f8f9e28154bdd",
       "version_major": 2,
       "version_minor": 0
      },
      "text/plain": [
       "VBox()"
      ]
     },
     "metadata": {},
     "output_type": "display_data"
    },
    {
     "name": "stdout",
     "output_type": "stream",
     "text": [
      "Starting Spark application\n"
     ]
    },
    {
     "data": {
      "text/html": [
       "<table>\n",
       "<tr><th>ID</th><th>YARN Application ID</th><th>Kind</th><th>State</th><th>Spark UI</th><th>Driver log</th><th>Current session?</th></tr><tr><td>2</td><td>application_1666040033804_0003</td><td>pyspark</td><td>idle</td><td><a target=\"_blank\" href=\"http://ip-172-31-34-190.ec2.internal:20888/proxy/application_1666040033804_0003/\">Link</a></td><td><a target=\"_blank\" href=\"http://ip-172-31-34-206.ec2.internal:8042/node/containerlogs/container_1666040033804_0003_01_000001/livy\">Link</a></td><td>✔</td></tr></table>"
      ],
      "text/plain": [
       "<IPython.core.display.HTML object>"
      ]
     },
     "metadata": {},
     "output_type": "display_data"
    },
    {
     "data": {
      "application/vnd.jupyter.widget-view+json": {
       "model_id": "",
       "version_major": 2,
       "version_minor": 0
      },
      "text/plain": [
       "FloatProgress(value=0.0, bar_style='info', description='Progress:', layout=Layout(height='25px', width='50%'),…"
      ]
     },
     "metadata": {},
     "output_type": "display_data"
    },
    {
     "name": "stdout",
     "output_type": "stream",
     "text": [
      "SparkSession available as 'spark'.\n"
     ]
    },
    {
     "data": {
      "application/vnd.jupyter.widget-view+json": {
       "model_id": "",
       "version_major": 2,
       "version_minor": 0
      },
      "text/plain": [
       "FloatProgress(value=0.0, bar_style='info', description='Progress:', layout=Layout(height='25px', width='50%'),…"
      ]
     },
     "metadata": {},
     "output_type": "display_data"
    },
    {
     "name": "stdout",
     "output_type": "stream",
     "text": [
      "Collecting pandas==0.23.2\n",
      "  Using cached pandas-0.23.2-cp36-cp36m-manylinux1_x86_64.whl (8.9 MB)\n",
      "Requirement already satisfied: pytz>=2011k in /usr/local/lib/python3.6/site-packages (from pandas==0.23.2) (2019.3)\n",
      "Collecting python-dateutil>=2.5.0\n",
      "  Using cached python_dateutil-2.8.2-py2.py3-none-any.whl (247 kB)\n",
      "Requirement already satisfied: numpy>=1.9.0 in /usr/local/lib64/python3.6/site-packages (from pandas==0.23.2) (1.14.5)\n",
      "Requirement already satisfied: six>=1.5 in /usr/local/lib/python3.6/site-packages (from python-dateutil>=2.5.0->pandas==0.23.2) (1.12.0)\n",
      "Installing collected packages: python-dateutil, pandas\n",
      "Successfully installed pandas-0.23.2 python-dateutil-2.8.2\n",
      "\n",
      "Collecting geopy==2.2.0\n",
      "  Using cached geopy-2.2.0-py3-none-any.whl (118 kB)\n",
      "Collecting geographiclib<2,>=1.49\n",
      "  Using cached geographiclib-1.52-py3-none-any.whl (38 kB)\n",
      "Installing collected packages: geographiclib, geopy\n",
      "Successfully installed geographiclib-1.52 geopy-2.2.0\n",
      "\n",
      "Collecting certifi==2019.11.28\n",
      "  Using cached certifi-2019.11.28-py2.py3-none-any.whl (156 kB)\n",
      "Installing collected packages: certifi\n",
      "Successfully installed certifi-2019.11.28\n",
      "\n",
      "Collecting xlrd==0.9.4\n",
      "  Downloading xlrd-0.9.4-py3-none-any.whl (143 kB)\n",
      "Installing collected packages: xlrd\n",
      "Successfully installed xlrd-0.9.4"
     ]
    }
   ],
   "source": [
    "sc.install_pypi_package(\"pandas==0.23.2\")\n",
    "sc.install_pypi_package(\"geopy==2.2.0\")\n",
    "sc.install_pypi_package(\"certifi==2019.11.28\")\n",
    "sc.install_pypi_package(\"xlrd==0.9.4\")\n",
    "sc._jsc.hadoopConfiguration().set(\"mapreduce.fileoutputcommitter.algorithm.version\", \"2\")"
   ]
  },
  {
   "cell_type": "code",
   "execution_count": 2,
   "metadata": {
    "editable": true,
    "execution": {
     "iopub.execute_input": "2022-10-17T23:07:45.496799Z",
     "iopub.status.busy": "2022-10-17T23:07:45.495859Z",
     "iopub.status.idle": "2022-10-17T23:07:46.366449Z",
     "shell.execute_reply": "2022-10-17T23:07:46.364026Z",
     "shell.execute_reply.started": "2022-10-17T23:07:45.496677Z"
    },
    "tags": []
   },
   "outputs": [
    {
     "data": {
      "application/vnd.jupyter.widget-view+json": {
       "model_id": "c4a3a2154e8f41b1a6dee70e4c07257a",
       "version_major": 2,
       "version_minor": 0
      },
      "text/plain": [
       "VBox()"
      ]
     },
     "metadata": {},
     "output_type": "display_data"
    },
    {
     "data": {
      "application/vnd.jupyter.widget-view+json": {
       "model_id": "",
       "version_major": 2,
       "version_minor": 0
      },
      "text/plain": [
       "FloatProgress(value=0.0, bar_style='info', description='Progress:', layout=Layout(height='25px', width='50%'),…"
      ]
     },
     "metadata": {},
     "output_type": "display_data"
    }
   ],
   "source": [
    "import configparser\n",
    "import datetime\n",
    "import os\n",
    "import time\n",
    "import logging\n",
    "from pyspark.sql import SparkSession, DataFrame\n",
    "from pyspark.context import SparkContext\n",
    "from pyspark.sql.types import *\n",
    "import pyspark.sql.functions as F\n",
    "from pyspark.sql.window import *\n",
    "from functools import reduce\n",
    "import pandas as pd\n",
    "import numpy as np\n",
    "from pyspark.sql.types import StructType as R, StructField as Fld\n",
    "\n",
    "bucket = 's3a://jccapstonedata/'"
   ]
  },
  {
   "cell_type": "markdown",
   "metadata": {
    "editable": true
   },
   "source": [
    "### Step 1: Scope the Project and Gather Data\n",
    "\n",
    "#### Scope \n",
    "* Extract data on various storms and join it with SS name and state datasets. The storm data undergoes some initial transformations with pandas to make it readily availble for further processing in PySpark.\n",
    "* The raw datasets are uploaded to S3, explored in greater detail with Apache Spark and Pandas, and then reuploaded to S3 as a set of dimension and fact tables. \n",
    "* The end goal is to provide enough information for an analyst to be able to answer questions regarding naming patterns between people and storms, popular names by state over a range of years, and general information regarding storms through the same range of years. \n",
    "\n",
    "#### Describe and Gather Data \n",
    "1. HURDAT2: Comes from the Hurricane Research Division's (HRD) Atlantic Oceanographic and Meteorological Laboratory (AOML) and provides storm name, status, maintained wind speed, location(s) over a storm's course, and other information (~55,000 rows)\n",
    "2. Name: Comes from the Social Security Administration (SSA) and provides birth name, birth year, birth state, sex, and name popularity (~6.3 million rows)\n",
    "3. State: Come from Kaggle and provides state name, code, region, and division (51 rows)\n",
    "4. Saffir-Simpson Wind Scale: Comes from the National Hurrican Center and provides a hurricane's categorization based on maintained wind speeds (5 rows)"
   ]
  },
  {
   "cell_type": "markdown",
   "metadata": {
    "editable": true
   },
   "source": [
    "### Create Saffir-Simpson Hurricane Wind Scale"
   ]
  },
  {
   "cell_type": "code",
   "execution_count": 3,
   "metadata": {
    "editable": true,
    "execution": {
     "iopub.execute_input": "2022-10-17T23:07:46.370699Z",
     "iopub.status.busy": "2022-10-17T23:07:46.369340Z",
     "iopub.status.idle": "2022-10-17T23:07:47.176098Z",
     "shell.execute_reply": "2022-10-17T23:07:47.174859Z",
     "shell.execute_reply.started": "2022-10-17T23:07:46.370651Z"
    },
    "tags": []
   },
   "outputs": [
    {
     "data": {
      "application/vnd.jupyter.widget-view+json": {
       "model_id": "c7f58846a7e54b23b41cc1c655697aa7",
       "version_major": 2,
       "version_minor": 0
      },
      "text/plain": [
       "VBox()"
      ]
     },
     "metadata": {},
     "output_type": "display_data"
    },
    {
     "data": {
      "application/vnd.jupyter.widget-view+json": {
       "model_id": "",
       "version_major": 2,
       "version_minor": 0
      },
      "text/plain": [
       "FloatProgress(value=0.0, bar_style='info', description='Progress:', layout=Layout(height='25px', width='50%'),…"
      ]
     },
     "metadata": {},
     "output_type": "display_data"
    }
   ],
   "source": [
    "data = [{'category': '1', 'min_sustained_wind_kt': 64, 'max_sustained_wind_kt': 82, 'brief_damage_description': 'Power outages that could last a few to several days.'}, \n",
    "            {'category': '2', 'min_sustained_wind_kt': 83, 'max_sustained_wind_kt': 95, 'brief_damage_description': 'Near-total power loss is expected with outages that could last from several days to weeks.'},\n",
    "            {'category': '3-MAJOR', 'min_sustained_wind_kt': 96, 'max_sustained_wind_kt': 112, 'brief_damage_description': 'Electricity and water will be unavailable for several days to weeks after the storm passes.'},\n",
    "            {'category': '4-MAJOR', 'min_sustained_wind_kt': 113, 'max_sustained_wind_kt': 136, 'brief_damage_description': 'Catastrophic damage will occur; most of the area will be uninhabitable for weeks or months.'},\n",
    "            {'category': '5-MAJOR', 'min_sustained_wind_kt': 137, 'max_sustained_wind_kt': 1000000, 'brief_damage_description': 'Catastrophic damage will occur; most of the area will be uninhabitable for weeks or months.'}]"
   ]
  },
  {
   "cell_type": "code",
   "execution_count": 4,
   "metadata": {
    "editable": true,
    "execution": {
     "iopub.execute_input": "2022-10-17T23:07:47.253464Z",
     "iopub.status.busy": "2022-10-17T23:07:47.177514Z",
     "iopub.status.idle": "2022-10-17T23:07:47.782871Z",
     "shell.execute_reply": "2022-10-17T23:07:47.781854Z",
     "shell.execute_reply.started": "2022-10-17T23:07:47.253417Z"
    },
    "tags": []
   },
   "outputs": [
    {
     "data": {
      "application/vnd.jupyter.widget-view+json": {
       "model_id": "cc8aaf11ee5a4c05aaa5e1b3908cb0fb",
       "version_major": 2,
       "version_minor": 0
      },
      "text/plain": [
       "VBox()"
      ]
     },
     "metadata": {},
     "output_type": "display_data"
    },
    {
     "data": {
      "application/vnd.jupyter.widget-view+json": {
       "model_id": "",
       "version_major": 2,
       "version_minor": 0
      },
      "text/plain": [
       "FloatProgress(value=0.0, bar_style='info', description='Progress:', layout=Layout(height='25px', width='50%'),…"
      ]
     },
     "metadata": {},
     "output_type": "display_data"
    }
   ],
   "source": [
    "pd_wind_scale = pd.DataFrame(data)\n",
    "\n",
    "wind_scale = pd_wind_scale[['category', 'min_sustained_wind_kt', 'max_sustained_wind_kt', 'brief_damage_description']]"
   ]
  },
  {
   "cell_type": "code",
   "execution_count": 5,
   "metadata": {
    "editable": true,
    "execution": {
     "iopub.execute_input": "2022-10-17T23:07:47.785046Z",
     "iopub.status.busy": "2022-10-17T23:07:47.784655Z",
     "iopub.status.idle": "2022-10-17T23:07:49.432228Z",
     "shell.execute_reply": "2022-10-17T23:07:49.431045Z",
     "shell.execute_reply.started": "2022-10-17T23:07:47.785006Z"
    },
    "tags": []
   },
   "outputs": [
    {
     "data": {
      "application/vnd.jupyter.widget-view+json": {
       "model_id": "affa3947ef6049e1a920c7949b9c3b3d",
       "version_major": 2,
       "version_minor": 0
      },
      "text/plain": [
       "VBox()"
      ]
     },
     "metadata": {},
     "output_type": "display_data"
    },
    {
     "data": {
      "application/vnd.jupyter.widget-view+json": {
       "model_id": "",
       "version_major": 2,
       "version_minor": 0
      },
      "text/plain": [
       "FloatProgress(value=0.0, bar_style='info', description='Progress:', layout=Layout(height='25px', width='50%'),…"
      ]
     },
     "metadata": {},
     "output_type": "display_data"
    },
    {
     "name": "stdout",
     "output_type": "stream",
     "text": [
      "/usr/lib/spark/python/lib/pyspark.zip/pyspark/sql/session.py:346: UserWarning: inferring schema from dict is deprecated,please use pyspark.sql.Row instead"
     ]
    }
   ],
   "source": [
    "spark_wind_scale = spark.createDataFrame(data)\n",
    "\n",
    "saffir_simpson_hurricane_wind_scale = spark_wind_scale.select('category', 'min_sustained_wind_kt', 'max_sustained_wind_kt', \n",
    "                                                             'brief_damage_description')"
   ]
  },
  {
   "cell_type": "code",
   "execution_count": 6,
   "metadata": {
    "editable": true,
    "execution": {
     "iopub.execute_input": "2022-10-17T23:07:49.436498Z",
     "iopub.status.busy": "2022-10-17T23:07:49.436086Z",
     "iopub.status.idle": "2022-10-17T23:07:57.258957Z",
     "shell.execute_reply": "2022-10-17T23:07:57.251548Z",
     "shell.execute_reply.started": "2022-10-17T23:07:49.436455Z"
    },
    "tags": []
   },
   "outputs": [
    {
     "data": {
      "application/vnd.jupyter.widget-view+json": {
       "model_id": "48a94b64a11642b59ec59f47c17f8e4e",
       "version_major": 2,
       "version_minor": 0
      },
      "text/plain": [
       "VBox()"
      ]
     },
     "metadata": {},
     "output_type": "display_data"
    },
    {
     "data": {
      "application/vnd.jupyter.widget-view+json": {
       "model_id": "",
       "version_major": 2,
       "version_minor": 0
      },
      "text/plain": [
       "FloatProgress(value=0.0, bar_style='info', description='Progress:', layout=Layout(height='25px', width='50%'),…"
      ]
     },
     "metadata": {},
     "output_type": "display_data"
    }
   ],
   "source": [
    "saffir_simpson_hurricane_wind_scale.write.mode('overwrite').parquet(os.path.join(bucket, 'transformed_data/dim_tables/wind_scale.parquet'))"
   ]
  },
  {
   "cell_type": "markdown",
   "metadata": {
    "editable": true
   },
   "source": [
    "### Read Storm Data"
   ]
  },
  {
   "cell_type": "code",
   "execution_count": 7,
   "metadata": {
    "editable": true,
    "execution": {
     "iopub.execute_input": "2022-10-17T23:07:57.274466Z",
     "iopub.status.busy": "2022-10-17T23:07:57.270926Z",
     "iopub.status.idle": "2022-10-17T23:08:00.187493Z",
     "shell.execute_reply": "2022-10-17T23:08:00.181440Z",
     "shell.execute_reply.started": "2022-10-17T23:07:57.272977Z"
    },
    "tags": []
   },
   "outputs": [
    {
     "data": {
      "application/vnd.jupyter.widget-view+json": {
       "model_id": "2e5a84cf566441259392c1adf5cd368e",
       "version_major": 2,
       "version_minor": 0
      },
      "text/plain": [
       "VBox()"
      ]
     },
     "metadata": {},
     "output_type": "display_data"
    },
    {
     "data": {
      "application/vnd.jupyter.widget-view+json": {
       "model_id": "",
       "version_major": 2,
       "version_minor": 0
      },
      "text/plain": [
       "FloatProgress(value=0.0, bar_style='info', description='Progress:', layout=Layout(height='25px', width='50%'),…"
      ]
     },
     "metadata": {},
     "output_type": "display_data"
    },
    {
     "name": "stdout",
     "output_type": "stream",
     "text": [
      "+---+--------+-------------------+-------+----+------+-------+----+-----+-----+-----+-----+-----+-----+-----+-----+-----+-----+-----+-----+-----+-----+\n",
      "|_c0|       0|                  1|      2|   3|     4|      5|   6|    7|    8|    9|   10|   11|   12|   13|   14|   15|   16|   17|   18|   19|   20|\n",
      "+---+--------+-------------------+-------+----+------+-------+----+-----+-----+-----+-----+-----+-----+-----+-----+-----+-----+-----+-----+-----+-----+\n",
      "|  0|AL011851|            UNNAMED|     14|null|  null|   null|null| null| null| null| null| null| null| null| null| null| null| null| null| null| null|\n",
      "|  1|18510625|               0000|       |  HU| 28.0N|  94.8W|  80| -999| -999| -999| -999| -999| -999| -999| -999| -999| -999| -999| -999| -999| -999|\n",
      "|  2|18510625|               0600|       |  HU| 28.0N|  95.4W|  80| -999| -999| -999| -999| -999| -999| -999| -999| -999| -999| -999| -999| -999| -999|\n",
      "|  3|18510625|               1200|       |  HU| 28.0N|  96.0W|  80| -999| -999| -999| -999| -999| -999| -999| -999| -999| -999| -999| -999| -999| -999|\n",
      "|  4|18510625|               1800|       |  HU| 28.1N|  96.5W|  80| -999| -999| -999| -999| -999| -999| -999| -999| -999| -999| -999| -999| -999| -999|\n",
      "+---+--------+-------------------+-------+----+------+-------+----+-----+-----+-----+-----+-----+-----+-----+-----+-----+-----+-----+-----+-----+-----+\n",
      "only showing top 5 rows"
     ]
    }
   ],
   "source": [
    "raw_storm_data = spark.read.csv(os.path.join(bucket, '*', 'raw_storm_data.csv'), header=True)\n",
    "raw_storm_data.show(5)"
   ]
  },
  {
   "cell_type": "markdown",
   "metadata": {
    "editable": true
   },
   "source": [
    "### Read Names by State Data"
   ]
  },
  {
   "cell_type": "code",
   "execution_count": 8,
   "metadata": {
    "editable": true,
    "execution": {
     "iopub.execute_input": "2022-10-17T23:08:00.193583Z",
     "iopub.status.busy": "2022-10-17T23:08:00.189490Z",
     "iopub.status.idle": "2022-10-17T23:08:02.574020Z",
     "shell.execute_reply": "2022-10-17T23:08:02.572677Z",
     "shell.execute_reply.started": "2022-10-17T23:08:00.193518Z"
    },
    "tags": []
   },
   "outputs": [
    {
     "data": {
      "application/vnd.jupyter.widget-view+json": {
       "model_id": "31b76e22b033456bbfdfbfc2fd0a156e",
       "version_major": 2,
       "version_minor": 0
      },
      "text/plain": [
       "VBox()"
      ]
     },
     "metadata": {},
     "output_type": "display_data"
    },
    {
     "data": {
      "application/vnd.jupyter.widget-view+json": {
       "model_id": "",
       "version_major": 2,
       "version_minor": 0
      },
      "text/plain": [
       "FloatProgress(value=0.0, bar_style='info', description='Progress:', layout=Layout(height='25px', width='50%'),…"
      ]
     },
     "metadata": {},
     "output_type": "display_data"
    },
    {
     "name": "stdout",
     "output_type": "stream",
     "text": [
      "+--------------------+\n",
      "|               value|\n",
      "+--------------------+\n",
      "|  CA,F,1910,Mary,295|\n",
      "| CA,F,1910,Helen,239|\n",
      "|CA,F,1910,Dorothy...|\n",
      "|CA,F,1910,Margare...|\n",
      "|CA,F,1910,Frances...|\n",
      "+--------------------+\n",
      "only showing top 5 rows"
     ]
    }
   ],
   "source": [
    "raw_name_data = spark.read.text(os.path.join(bucket, '*', '*', '*.TXT'))\n",
    "raw_name_data.show(5)"
   ]
  },
  {
   "cell_type": "markdown",
   "metadata": {
    "editable": true
   },
   "source": [
    "### Read State Data"
   ]
  },
  {
   "cell_type": "code",
   "execution_count": 9,
   "metadata": {
    "editable": true,
    "execution": {
     "iopub.execute_input": "2022-10-17T23:08:02.577925Z",
     "iopub.status.busy": "2022-10-17T23:08:02.576189Z",
     "iopub.status.idle": "2022-10-17T23:08:04.071769Z",
     "shell.execute_reply": "2022-10-17T23:08:04.070090Z",
     "shell.execute_reply.started": "2022-10-17T23:08:02.577749Z"
    },
    "tags": []
   },
   "outputs": [
    {
     "data": {
      "application/vnd.jupyter.widget-view+json": {
       "model_id": "f63e6e10154f4e8ba2803c029fb23008",
       "version_major": 2,
       "version_minor": 0
      },
      "text/plain": [
       "VBox()"
      ]
     },
     "metadata": {},
     "output_type": "display_data"
    },
    {
     "data": {
      "application/vnd.jupyter.widget-view+json": {
       "model_id": "",
       "version_major": 2,
       "version_minor": 0
      },
      "text/plain": [
       "FloatProgress(value=0.0, bar_style='info', description='Progress:', layout=Layout(height='25px', width='50%'),…"
      ]
     },
     "metadata": {},
     "output_type": "display_data"
    },
    {
     "name": "stdout",
     "output_type": "stream",
     "text": [
      "+------------------+------+----------+----------+\n",
      "|          Division|Region|     State|State Code|\n",
      "+------------------+------+----------+----------+\n",
      "|           Pacific|  West|    Alaska|        AK|\n",
      "|East South Central| South|   Alabama|        AL|\n",
      "|West South Central| South|  Arkansas|        AR|\n",
      "|          Mountain|  West|   Arizona|        AZ|\n",
      "|           Pacific|  West|California|        CA|\n",
      "+------------------+------+----------+----------+\n",
      "only showing top 5 rows"
     ]
    }
   ],
   "source": [
    "raw_state_data = spark.read.json(os.path.join(bucket, '*', 'states.json'))\n",
    "raw_state_data.show(5)"
   ]
  },
  {
   "cell_type": "markdown",
   "metadata": {
    "editable": true
   },
   "source": [
    "### Step 2: Explore and Assess the Data\n",
    "#### Explore the Data \n",
    "Identify data quality issues."
   ]
  },
  {
   "cell_type": "markdown",
   "metadata": {
    "editable": true
   },
   "source": [
    "##### Check for missing values"
   ]
  },
  {
   "cell_type": "code",
   "execution_count": 10,
   "metadata": {
    "editable": true,
    "execution": {
     "iopub.execute_input": "2022-10-17T23:08:04.075213Z",
     "iopub.status.busy": "2022-10-17T23:08:04.073895Z",
     "iopub.status.idle": "2022-10-17T23:08:04.861691Z",
     "shell.execute_reply": "2022-10-17T23:08:04.791594Z",
     "shell.execute_reply.started": "2022-10-17T23:08:04.074606Z"
    },
    "tags": []
   },
   "outputs": [
    {
     "data": {
      "application/vnd.jupyter.widget-view+json": {
       "model_id": "37ba2eeeb123413e869efdfaa06382fb",
       "version_major": 2,
       "version_minor": 0
      },
      "text/plain": [
       "VBox()"
      ]
     },
     "metadata": {},
     "output_type": "display_data"
    },
    {
     "data": {
      "application/vnd.jupyter.widget-view+json": {
       "model_id": "",
       "version_major": 2,
       "version_minor": 0
      },
      "text/plain": [
       "FloatProgress(value=0.0, bar_style='info', description='Progress:', layout=Layout(height='25px', width='50%'),…"
      ]
     },
     "metadata": {},
     "output_type": "display_data"
    }
   ],
   "source": [
    "def missing_values(df):\n",
    "    num_nulls = df.select([F.count(F.when(F.isnan(c) | F.col(c).isNull(), c)).alias(c) for c in df.columns]).show()\n",
    "    return num_nulls"
   ]
  },
  {
   "cell_type": "markdown",
   "metadata": {
    "editable": true
   },
   "source": [
    "##### Check for duplicates"
   ]
  },
  {
   "cell_type": "code",
   "execution_count": 11,
   "metadata": {
    "editable": true,
    "execution": {
     "iopub.execute_input": "2022-10-17T23:08:04.866942Z",
     "iopub.status.busy": "2022-10-17T23:08:04.863189Z",
     "iopub.status.idle": "2022-10-17T23:08:06.081814Z",
     "shell.execute_reply": "2022-10-17T23:08:05.979931Z",
     "shell.execute_reply.started": "2022-10-17T23:08:04.866893Z"
    },
    "tags": []
   },
   "outputs": [
    {
     "data": {
      "application/vnd.jupyter.widget-view+json": {
       "model_id": "92c69d17113b45299a1936836a49a859",
       "version_major": 2,
       "version_minor": 0
      },
      "text/plain": [
       "VBox()"
      ]
     },
     "metadata": {},
     "output_type": "display_data"
    },
    {
     "data": {
      "application/vnd.jupyter.widget-view+json": {
       "model_id": "",
       "version_major": 2,
       "version_minor": 0
      },
      "text/plain": [
       "FloatProgress(value=0.0, bar_style='info', description='Progress:', layout=Layout(height='25px', width='50%'),…"
      ]
     },
     "metadata": {},
     "output_type": "display_data"
    }
   ],
   "source": [
    "def duplicates(df):\n",
    "    num_dups = df.groupBy(df.columns).count().filter(\"count > 1\").count()\n",
    "    return num_dups"
   ]
  },
  {
   "cell_type": "markdown",
   "metadata": {
    "editable": true,
    "tags": []
   },
   "source": [
    "##### Check for missing values and duplicates in name data"
   ]
  },
  {
   "cell_type": "code",
   "execution_count": 12,
   "metadata": {
    "editable": true,
    "execution": {
     "iopub.execute_input": "2022-10-17T23:08:06.083498Z",
     "iopub.status.busy": "2022-10-17T23:08:06.083102Z",
     "iopub.status.idle": "2022-10-17T23:08:16.970871Z",
     "shell.execute_reply": "2022-10-17T23:08:16.969616Z",
     "shell.execute_reply.started": "2022-10-17T23:08:06.083457Z"
    },
    "tags": []
   },
   "outputs": [
    {
     "data": {
      "application/vnd.jupyter.widget-view+json": {
       "model_id": "14eda935b1db44f28d462640ba85638b",
       "version_major": 2,
       "version_minor": 0
      },
      "text/plain": [
       "VBox()"
      ]
     },
     "metadata": {},
     "output_type": "display_data"
    },
    {
     "data": {
      "application/vnd.jupyter.widget-view+json": {
       "model_id": "",
       "version_major": 2,
       "version_minor": 0
      },
      "text/plain": [
       "FloatProgress(value=0.0, bar_style='info', description='Progress:', layout=Layout(height='25px', width='50%'),…"
      ]
     },
     "metadata": {},
     "output_type": "display_data"
    },
    {
     "name": "stdout",
     "output_type": "stream",
     "text": [
      "Missing values in baby name dataset\n",
      "+-----+\n",
      "|value|\n",
      "+-----+\n",
      "|    0|\n",
      "+-----+"
     ]
    }
   ],
   "source": [
    "print('Missing values in baby name dataset')\n",
    "missing_values(raw_name_data)"
   ]
  },
  {
   "cell_type": "code",
   "execution_count": 13,
   "metadata": {
    "editable": true,
    "execution": {
     "iopub.execute_input": "2022-10-17T23:08:16.977604Z",
     "iopub.status.busy": "2022-10-17T23:08:16.975361Z",
     "iopub.status.idle": "2022-10-17T23:08:29.579403Z",
     "shell.execute_reply": "2022-10-17T23:08:29.575436Z",
     "shell.execute_reply.started": "2022-10-17T23:08:16.976896Z"
    },
    "tags": []
   },
   "outputs": [
    {
     "data": {
      "application/vnd.jupyter.widget-view+json": {
       "model_id": "6a61633ce67f4ae4ad7361b1845cb76c",
       "version_major": 2,
       "version_minor": 0
      },
      "text/plain": [
       "VBox()"
      ]
     },
     "metadata": {},
     "output_type": "display_data"
    },
    {
     "data": {
      "application/vnd.jupyter.widget-view+json": {
       "model_id": "",
       "version_major": 2,
       "version_minor": 0
      },
      "text/plain": [
       "FloatProgress(value=0.0, bar_style='info', description='Progress:', layout=Layout(height='25px', width='50%'),…"
      ]
     },
     "metadata": {},
     "output_type": "display_data"
    },
    {
     "name": "stdout",
     "output_type": "stream",
     "text": [
      "Total duplicates in baby name dataset: 0"
     ]
    }
   ],
   "source": [
    "print('Total duplicates in baby name dataset:', duplicates(raw_name_data))"
   ]
  },
  {
   "cell_type": "markdown",
   "metadata": {
    "editable": true
   },
   "source": [
    "##### Check for missing values and duplicates in state data"
   ]
  },
  {
   "cell_type": "code",
   "execution_count": 14,
   "metadata": {
    "editable": true,
    "execution": {
     "iopub.execute_input": "2022-10-17T23:08:29.584623Z",
     "iopub.status.busy": "2022-10-17T23:08:29.581225Z",
     "iopub.status.idle": "2022-10-17T23:08:30.668497Z",
     "shell.execute_reply": "2022-10-17T23:08:30.660697Z",
     "shell.execute_reply.started": "2022-10-17T23:08:29.584571Z"
    },
    "tags": []
   },
   "outputs": [
    {
     "data": {
      "application/vnd.jupyter.widget-view+json": {
       "model_id": "f46a4c051f5145d291d8afd5b67297c2",
       "version_major": 2,
       "version_minor": 0
      },
      "text/plain": [
       "VBox()"
      ]
     },
     "metadata": {},
     "output_type": "display_data"
    },
    {
     "data": {
      "application/vnd.jupyter.widget-view+json": {
       "model_id": "",
       "version_major": 2,
       "version_minor": 0
      },
      "text/plain": [
       "FloatProgress(value=0.0, bar_style='info', description='Progress:', layout=Layout(height='25px', width='50%'),…"
      ]
     },
     "metadata": {},
     "output_type": "display_data"
    },
    {
     "name": "stdout",
     "output_type": "stream",
     "text": [
      "Missing values in states dataset\n",
      "+--------+------+-----+----------+\n",
      "|Division|Region|State|State Code|\n",
      "+--------+------+-----+----------+\n",
      "|       0|     0|    0|         0|\n",
      "+--------+------+-----+----------+"
     ]
    }
   ],
   "source": [
    "print('Missing values in states dataset')\n",
    "missing_values(raw_state_data)"
   ]
  },
  {
   "cell_type": "code",
   "execution_count": 15,
   "metadata": {
    "editable": true,
    "execution": {
     "iopub.execute_input": "2022-10-17T23:08:30.674256Z",
     "iopub.status.busy": "2022-10-17T23:08:30.673809Z",
     "iopub.status.idle": "2022-10-17T23:08:33.567968Z",
     "shell.execute_reply": "2022-10-17T23:08:33.566688Z",
     "shell.execute_reply.started": "2022-10-17T23:08:30.674212Z"
    },
    "tags": []
   },
   "outputs": [
    {
     "data": {
      "application/vnd.jupyter.widget-view+json": {
       "model_id": "dc68bd6a20f249678cea249b36e738cc",
       "version_major": 2,
       "version_minor": 0
      },
      "text/plain": [
       "VBox()"
      ]
     },
     "metadata": {},
     "output_type": "display_data"
    },
    {
     "data": {
      "application/vnd.jupyter.widget-view+json": {
       "model_id": "",
       "version_major": 2,
       "version_minor": 0
      },
      "text/plain": [
       "FloatProgress(value=0.0, bar_style='info', description='Progress:', layout=Layout(height='25px', width='50%'),…"
      ]
     },
     "metadata": {},
     "output_type": "display_data"
    },
    {
     "name": "stdout",
     "output_type": "stream",
     "text": [
      "Total duplicates in states dataset: 0"
     ]
    }
   ],
   "source": [
    "print('Total duplicates in states dataset:', duplicates(raw_state_data))"
   ]
  },
  {
   "cell_type": "markdown",
   "metadata": {
    "editable": true
   },
   "source": [
    "##### Check for missing values and duplicates in raw storm data"
   ]
  },
  {
   "cell_type": "code",
   "execution_count": 16,
   "metadata": {
    "editable": true,
    "execution": {
     "iopub.execute_input": "2022-10-17T23:08:33.570154Z",
     "iopub.status.busy": "2022-10-17T23:08:33.569461Z",
     "iopub.status.idle": "2022-10-17T23:08:37.074037Z",
     "shell.execute_reply": "2022-10-17T23:08:37.072923Z",
     "shell.execute_reply.started": "2022-10-17T23:08:33.570111Z"
    },
    "tags": []
   },
   "outputs": [
    {
     "data": {
      "application/vnd.jupyter.widget-view+json": {
       "model_id": "aa5f9a3a7ca643cda60d0186a6645bd8",
       "version_major": 2,
       "version_minor": 0
      },
      "text/plain": [
       "VBox()"
      ]
     },
     "metadata": {},
     "output_type": "display_data"
    },
    {
     "data": {
      "application/vnd.jupyter.widget-view+json": {
       "model_id": "",
       "version_major": 2,
       "version_minor": 0
      },
      "text/plain": [
       "FloatProgress(value=0.0, bar_style='info', description='Progress:', layout=Layout(height='25px', width='50%'),…"
      ]
     },
     "metadata": {},
     "output_type": "display_data"
    },
    {
     "name": "stdout",
     "output_type": "stream",
     "text": [
      "Missing values in storm dataset\n",
      "+---+---+---+---+----+----+----+----+----+----+----+----+----+----+----+----+----+----+----+----+----+----+\n",
      "|_c0|  0|  1|  2|   3|   4|   5|   6|   7|   8|   9|  10|  11|  12|  13|  14|  15|  16|  17|  18|  19|  20|\n",
      "+---+---+---+---+----+----+----+----+----+----+----+----+----+----+----+----+----+----+----+----+----+----+\n",
      "|  0|  0|  0|  0|1933|1936|1936|1936|1936|1936|1936|1936|1936|1936|1936|1936|1936|1936|1936|1936|1936|1936|\n",
      "+---+---+---+---+----+----+----+----+----+----+----+----+----+----+----+----+----+----+----+----+----+----+"
     ]
    }
   ],
   "source": [
    "print('Missing values in storm dataset')\n",
    "missing_values(raw_storm_data)"
   ]
  },
  {
   "cell_type": "code",
   "execution_count": 17,
   "metadata": {
    "editable": true,
    "execution": {
     "iopub.execute_input": "2022-10-17T23:08:37.077301Z",
     "iopub.status.busy": "2022-10-17T23:08:37.075521Z",
     "iopub.status.idle": "2022-10-17T23:08:41.471722Z",
     "shell.execute_reply": "2022-10-17T23:08:41.470518Z",
     "shell.execute_reply.started": "2022-10-17T23:08:37.077256Z"
    },
    "tags": []
   },
   "outputs": [
    {
     "data": {
      "application/vnd.jupyter.widget-view+json": {
       "model_id": "b1ca9b0a007b4ca3a7df5e42618a8d4a",
       "version_major": 2,
       "version_minor": 0
      },
      "text/plain": [
       "VBox()"
      ]
     },
     "metadata": {},
     "output_type": "display_data"
    },
    {
     "data": {
      "application/vnd.jupyter.widget-view+json": {
       "model_id": "",
       "version_major": 2,
       "version_minor": 0
      },
      "text/plain": [
       "FloatProgress(value=0.0, bar_style='info', description='Progress:', layout=Layout(height='25px', width='50%'),…"
      ]
     },
     "metadata": {},
     "output_type": "display_data"
    },
    {
     "name": "stdout",
     "output_type": "stream",
     "text": [
      "Total duplicates in storm dataset: 0"
     ]
    }
   ],
   "source": [
    "print('Total duplicates in storm dataset:', duplicates(raw_storm_data))"
   ]
  },
  {
   "cell_type": "markdown",
   "metadata": {
    "editable": true
   },
   "source": [
    "#### Cleaning Steps\n",
    "Very little clean up is necessary. A deeper dive shows the missing values in the storm data set come from the header rows not having the same number of columns as the rest of the dataset."
   ]
  },
  {
   "cell_type": "code",
   "execution_count": 18,
   "metadata": {
    "editable": true,
    "execution": {
     "iopub.execute_input": "2022-10-17T23:08:41.475873Z",
     "iopub.status.busy": "2022-10-17T23:08:41.473473Z",
     "iopub.status.idle": "2022-10-17T23:08:42.906525Z",
     "shell.execute_reply": "2022-10-17T23:08:42.905342Z",
     "shell.execute_reply.started": "2022-10-17T23:08:41.475819Z"
    },
    "tags": []
   },
   "outputs": [
    {
     "data": {
      "application/vnd.jupyter.widget-view+json": {
       "model_id": "375803418c9945debde7c5828abe3ce5",
       "version_major": 2,
       "version_minor": 0
      },
      "text/plain": [
       "VBox()"
      ]
     },
     "metadata": {},
     "output_type": "display_data"
    },
    {
     "data": {
      "application/vnd.jupyter.widget-view+json": {
       "model_id": "",
       "version_major": 2,
       "version_minor": 0
      },
      "text/plain": [
       "FloatProgress(value=0.0, bar_style='info', description='Progress:', layout=Layout(height='25px', width='50%'),…"
      ]
     },
     "metadata": {},
     "output_type": "display_data"
    },
    {
     "name": "stdout",
     "output_type": "stream",
     "text": [
      "1933\n",
      "+---+--------+-------------------+-------+----+----+----+----+----+----+----+----+----+----+----+----+----+----+----+----+----+----+\n",
      "|_c0|       0|                  1|      2|   3|   4|   5|   6|   7|   8|   9|  10|  11|  12|  13|  14|  15|  16|  17|  18|  19|  20|\n",
      "+---+--------+-------------------+-------+----+----+----+----+----+----+----+----+----+----+----+----+----+----+----+----+----+----+\n",
      "|  0|AL011851|            UNNAMED|     14|null|null|null|null|null|null|null|null|null|null|null|null|null|null|null|null|null|null|\n",
      "| 15|AL021851|            UNNAMED|      1|null|null|null|null|null|null|null|null|null|null|null|null|null|null|null|null|null|null|\n",
      "| 17|AL031851|            UNNAMED|      1|null|null|null|null|null|null|null|null|null|null|null|null|null|null|null|null|null|null|\n",
      "| 19|AL041851|            UNNAMED|     49|null|null|null|null|null|null|null|null|null|null|null|null|null|null|null|null|null|null|\n",
      "| 69|AL051851|            UNNAMED|     16|null|null|null|null|null|null|null|null|null|null|null|null|null|null|null|null|null|null|\n",
      "| 86|AL061851|            UNNAMED|     17|null|null|null|null|null|null|null|null|null|null|null|null|null|null|null|null|null|null|\n",
      "|104|AL011852|            UNNAMED|     45|null|null|null|null|null|null|null|null|null|null|null|null|null|null|null|null|null|null|\n",
      "|150|AL021852|            UNNAMED|      8|null|null|null|null|null|null|null|null|null|null|null|null|null|null|null|null|null|null|\n",
      "|159|AL031852|            UNNAMED|     20|null|null|null|null|null|null|null|null|null|null|null|null|null|null|null|null|null|null|\n",
      "|180|AL041852|            UNNAMED|     36|null|null|null|null|null|null|null|null|null|null|null|null|null|null|null|null|null|null|\n",
      "+---+--------+-------------------+-------+----+----+----+----+----+----+----+----+----+----+----+----+----+----+----+----+----+----+\n",
      "only showing top 10 rows"
     ]
    }
   ],
   "source": [
    "print(raw_storm_data.filter(raw_storm_data['3'].isNull()).count())\n",
    "raw_storm_data.filter(raw_storm_data['3'].isNull()).show(10)"
   ]
  },
  {
   "cell_type": "markdown",
   "metadata": {
    "editable": true
   },
   "source": [
    "### Step 3: Define the Data Model\n",
    "#### 3.1 Conceptual Data Model\n",
    "Map out the conceptual data model and explain why you chose that model"
   ]
  },
  {
   "cell_type": "markdown",
   "metadata": {
    "editable": true
   },
   "source": [
    "![Schema](Capstone_Schema.png)"
   ]
  },
  {
   "cell_type": "markdown",
   "metadata": {
    "editable": true
   },
   "source": [
    "#### 3.2 Mapping Out Data Pipelines\n",
    "At a high level, the transformations are done in both Pandas and Spark as Spark proved to perform poorly in certain cases. <br> As a data engineer I need to,\n",
    "1. Combine storm data row-wise and remove unnecessary columns\n",
    "* Make separate header dataframe and statistics dataframe and join them to create unique rows for storm data\n",
    "2. Filter out unnamed storms for storm and baby name analysis\n",
    "3. Breakdown storm id to get years for storm and baby name analysis\n",
    "4. Create a wind scale table to give storms typed as hurricanes a category for further analysis\n",
    "5. Combine storm and name data on name to analyze potential trends"
   ]
  },
  {
   "cell_type": "markdown",
   "metadata": {
    "editable": true
   },
   "source": [
    "### Step 4: Run Pipelines to Model the Data \n",
    "#### 4.1 Create the data model\n",
    "Build the data pipelines to create the data model."
   ]
  },
  {
   "cell_type": "markdown",
   "metadata": {
    "editable": true
   },
   "source": [
    "### Baby Names by State Table"
   ]
  },
  {
   "cell_type": "code",
   "execution_count": 19,
   "metadata": {
    "editable": true,
    "execution": {
     "iopub.execute_input": "2022-10-17T23:08:42.914887Z",
     "iopub.status.busy": "2022-10-17T23:08:42.912903Z",
     "iopub.status.idle": "2022-10-17T23:08:43.430056Z",
     "shell.execute_reply": "2022-10-17T23:08:43.428896Z",
     "shell.execute_reply.started": "2022-10-17T23:08:42.914839Z"
    },
    "tags": []
   },
   "outputs": [
    {
     "data": {
      "application/vnd.jupyter.widget-view+json": {
       "model_id": "eb0702f049f841c482f5c46acde7f09b",
       "version_major": 2,
       "version_minor": 0
      },
      "text/plain": [
       "VBox()"
      ]
     },
     "metadata": {},
     "output_type": "display_data"
    },
    {
     "data": {
      "application/vnd.jupyter.widget-view+json": {
       "model_id": "",
       "version_major": 2,
       "version_minor": 0
      },
      "text/plain": [
       "FloatProgress(value=0.0, bar_style='info', description='Progress:', layout=Layout(height='25px', width='50%'),…"
      ]
     },
     "metadata": {},
     "output_type": "display_data"
    }
   ],
   "source": [
    "split_col = F.split(raw_name_data.value, ',')\n",
    "names_by_state = raw_name_data.withColumn('state_code', split_col.getItem(0)) \\\n",
    ".withColumn('sex', split_col.getItem(1)) \\\n",
    ".withColumn('birth_year', split_col.getItem(2)) \\\n",
    ".withColumn('birth_name', split_col.getItem(3)) \\\n",
    ".withColumn('count', split_col.getItem(4)) \\\n",
    ".drop(raw_name_data.value)\n",
    "\n",
    "names_by_state = names_by_state.orderBy(['birth_year', 'state_code', 'birth_name']) \\\n",
    ".withColumn('name_id', F.row_number().over(Window.partitionBy().orderBy('birth_year', 'state_code', 'birth_name'))) \\\n",
    ".withColumn('decade', (F.floor(F.col('birth_year')/10)*10).cast('int')) \\\n",
    ".withColumn('birth_name', F.upper(F.col('birth_name')))\n",
    "\n",
    "baby_names_by_state = names_by_state.select('name_id', 'birth_name', 'birth_year', 'state_code', 'sex', 'count', 'decade')"
   ]
  },
  {
   "cell_type": "code",
   "execution_count": 20,
   "metadata": {
    "editable": true,
    "execution": {
     "iopub.execute_input": "2022-10-17T23:08:43.441438Z",
     "iopub.status.busy": "2022-10-17T23:08:43.441019Z",
     "iopub.status.idle": "2022-10-17T23:08:43.696063Z",
     "shell.execute_reply": "2022-10-17T23:08:43.694655Z",
     "shell.execute_reply.started": "2022-10-17T23:08:43.441405Z"
    }
   },
   "outputs": [
    {
     "data": {
      "application/vnd.jupyter.widget-view+json": {
       "model_id": "751e0f8cccec4861b4a33d21eaf519cf",
       "version_major": 2,
       "version_minor": 0
      },
      "text/plain": [
       "VBox()"
      ]
     },
     "metadata": {},
     "output_type": "display_data"
    },
    {
     "data": {
      "application/vnd.jupyter.widget-view+json": {
       "model_id": "",
       "version_major": 2,
       "version_minor": 0
      },
      "text/plain": [
       "FloatProgress(value=0.0, bar_style='info', description='Progress:', layout=Layout(height='25px', width='50%'),…"
      ]
     },
     "metadata": {},
     "output_type": "display_data"
    }
   ],
   "source": [
    "baby_names_by_state.write.partitionBy('state_code', 'birth_year').mode(\n",
    "        'overwrite').parquet(os.path.join(bucket, 'transformed_data/dim_tables/names_by_state.parquet'))"
   ]
  },
  {
   "cell_type": "code",
   "execution_count": 21,
   "metadata": {
    "execution": {
     "iopub.execute_input": "2022-10-17T23:08:43.760105Z",
     "iopub.status.busy": "2022-10-17T23:08:43.759731Z",
     "iopub.status.idle": "2022-10-17T23:09:26.663719Z",
     "shell.execute_reply": "2022-10-17T23:09:26.662193Z",
     "shell.execute_reply.started": "2022-10-17T23:08:43.760070Z"
    }
   },
   "outputs": [
    {
     "data": {
      "application/vnd.jupyter.widget-view+json": {
       "model_id": "2422d66a42f340bbaf0fce3af566adad",
       "version_major": 2,
       "version_minor": 0
      },
      "text/plain": [
       "VBox()"
      ]
     },
     "metadata": {},
     "output_type": "display_data"
    },
    {
     "data": {
      "application/vnd.jupyter.widget-view+json": {
       "model_id": "",
       "version_major": 2,
       "version_minor": 0
      },
      "text/plain": [
       "FloatProgress(value=0.0, bar_style='info', description='Progress:', layout=Layout(height='25px', width='50%'),…"
      ]
     },
     "metadata": {},
     "output_type": "display_data"
    },
    {
     "name": "stdout",
     "output_type": "stream",
     "text": [
      "+-------+----------+----------+----------+---+-----+------+\n",
      "|name_id|birth_name|birth_year|state_code|sex|count|decade|\n",
      "+-------+----------+----------+----------+---+-----+------+\n",
      "|      1|      ANNA|      1910|        AK|  F|   10|  1910|\n",
      "|      2|     ANNIE|      1910|        AK|  F|   12|  1910|\n",
      "|      3|      CARL|      1910|        AK|  M|    5|  1910|\n",
      "|      4|   DOROTHY|      1910|        AK|  F|    5|  1910|\n",
      "|      5|    EDWARD|      1910|        AK|  M|    5|  1910|\n",
      "+-------+----------+----------+----------+---+-----+------+\n",
      "only showing top 5 rows"
     ]
    }
   ],
   "source": [
    "baby_names_by_state.show(5)"
   ]
  },
  {
   "cell_type": "markdown",
   "metadata": {
    "editable": true
   },
   "source": [
    "### States table"
   ]
  },
  {
   "cell_type": "code",
   "execution_count": 22,
   "metadata": {
    "editable": true,
    "execution": {
     "iopub.execute_input": "2022-10-17T23:09:26.665298Z",
     "iopub.status.busy": "2022-10-17T23:09:26.665019Z",
     "iopub.status.idle": "2022-10-17T23:09:26.999488Z",
     "shell.execute_reply": "2022-10-17T23:09:26.997889Z",
     "shell.execute_reply.started": "2022-10-17T23:09:26.665269Z"
    },
    "tags": []
   },
   "outputs": [
    {
     "data": {
      "application/vnd.jupyter.widget-view+json": {
       "model_id": "05e412aafebe4d57bf278b17bc95353a",
       "version_major": 2,
       "version_minor": 0
      },
      "text/plain": [
       "VBox()"
      ]
     },
     "metadata": {},
     "output_type": "display_data"
    },
    {
     "data": {
      "application/vnd.jupyter.widget-view+json": {
       "model_id": "",
       "version_major": 2,
       "version_minor": 0
      },
      "text/plain": [
       "FloatProgress(value=0.0, bar_style='info', description='Progress:', layout=Layout(height='25px', width='50%'),…"
      ]
     },
     "metadata": {},
     "output_type": "display_data"
    }
   ],
   "source": [
    "state_data = raw_state_data.withColumnRenamed('State', 'state') \\\n",
    ".withColumnRenamed('State Code', 'state_code') \\\n",
    ".withColumnRenamed('Region', 'region') \\\n",
    ".withColumnRenamed('Division', 'division') \\\n",
    ".withColumn('state_id', F.row_number().over(Window.partitionBy().orderBy('state', 'state_code')))\n",
    "\n",
    "state_data = state_data.select('state_id', 'state_code', 'state', 'region', 'division')"
   ]
  },
  {
   "cell_type": "code",
   "execution_count": 23,
   "metadata": {
    "editable": true,
    "execution": {
     "iopub.execute_input": "2022-10-17T23:09:27.003407Z",
     "iopub.status.busy": "2022-10-17T23:09:27.002172Z",
     "iopub.status.idle": "2022-10-17T23:09:29.767870Z",
     "shell.execute_reply": "2022-10-17T23:09:29.766516Z",
     "shell.execute_reply.started": "2022-10-17T23:09:27.003357Z"
    }
   },
   "outputs": [
    {
     "data": {
      "application/vnd.jupyter.widget-view+json": {
       "model_id": "cbac77b8160443ba9a1b0b3d61280bbe",
       "version_major": 2,
       "version_minor": 0
      },
      "text/plain": [
       "VBox()"
      ]
     },
     "metadata": {},
     "output_type": "display_data"
    },
    {
     "data": {
      "application/vnd.jupyter.widget-view+json": {
       "model_id": "",
       "version_major": 2,
       "version_minor": 0
      },
      "text/plain": [
       "FloatProgress(value=0.0, bar_style='info', description='Progress:', layout=Layout(height='25px', width='50%'),…"
      ]
     },
     "metadata": {},
     "output_type": "display_data"
    }
   ],
   "source": [
    "state_data.write.mode('overwrite').parquet(os.path.join(bucket, 'transformed_data/dim_tables/state_data.parquet'))"
   ]
  },
  {
   "cell_type": "code",
   "execution_count": 24,
   "metadata": {
    "execution": {
     "iopub.execute_input": "2022-10-17T23:09:29.774048Z",
     "iopub.status.busy": "2022-10-17T23:09:29.769529Z",
     "iopub.status.idle": "2022-10-17T23:09:30.660089Z",
     "shell.execute_reply": "2022-10-17T23:09:30.656603Z",
     "shell.execute_reply.started": "2022-10-17T23:09:29.773898Z"
    }
   },
   "outputs": [
    {
     "data": {
      "application/vnd.jupyter.widget-view+json": {
       "model_id": "d25f7dda5b4d4e57ad846979df59d0c9",
       "version_major": 2,
       "version_minor": 0
      },
      "text/plain": [
       "VBox()"
      ]
     },
     "metadata": {},
     "output_type": "display_data"
    },
    {
     "data": {
      "application/vnd.jupyter.widget-view+json": {
       "model_id": "",
       "version_major": 2,
       "version_minor": 0
      },
      "text/plain": [
       "FloatProgress(value=0.0, bar_style='info', description='Progress:', layout=Layout(height='25px', width='50%'),…"
      ]
     },
     "metadata": {},
     "output_type": "display_data"
    },
    {
     "name": "stdout",
     "output_type": "stream",
     "text": [
      "+--------+----------+----------+------+------------------+\n",
      "|state_id|state_code|     state|region|          division|\n",
      "+--------+----------+----------+------+------------------+\n",
      "|       1|        AL|   Alabama| South|East South Central|\n",
      "|       2|        AK|    Alaska|  West|           Pacific|\n",
      "|       3|        AZ|   Arizona|  West|          Mountain|\n",
      "|       4|        AR|  Arkansas| South|West South Central|\n",
      "|       5|        CA|California|  West|           Pacific|\n",
      "+--------+----------+----------+------+------------------+\n",
      "only showing top 5 rows"
     ]
    }
   ],
   "source": [
    "state_data.show(5)"
   ]
  },
  {
   "cell_type": "markdown",
   "metadata": {
    "editable": true
   },
   "source": [
    "### Atlantic Storms Table"
   ]
  },
  {
   "cell_type": "markdown",
   "metadata": {
    "editable": true
   },
   "source": [
    "Atlantic storms header table (helper)"
   ]
  },
  {
   "cell_type": "code",
   "execution_count": 25,
   "metadata": {
    "editable": true,
    "execution": {
     "iopub.execute_input": "2022-10-17T23:09:30.664018Z",
     "iopub.status.busy": "2022-10-17T23:09:30.663630Z",
     "iopub.status.idle": "2022-10-17T23:09:31.657805Z",
     "shell.execute_reply": "2022-10-17T23:09:31.656690Z",
     "shell.execute_reply.started": "2022-10-17T23:09:30.663974Z"
    },
    "tags": []
   },
   "outputs": [
    {
     "data": {
      "application/vnd.jupyter.widget-view+json": {
       "model_id": "4aa648bae33842378a2716dc83924e23",
       "version_major": 2,
       "version_minor": 0
      },
      "text/plain": [
       "VBox()"
      ]
     },
     "metadata": {},
     "output_type": "display_data"
    },
    {
     "data": {
      "application/vnd.jupyter.widget-view+json": {
       "model_id": "",
       "version_major": 2,
       "version_minor": 0
      },
      "text/plain": [
       "FloatProgress(value=0.0, bar_style='info', description='Progress:', layout=Layout(height='25px', width='50%'),…"
      ]
     },
     "metadata": {},
     "output_type": "display_data"
    }
   ],
   "source": [
    "identified_storms = raw_storm_data.filter(raw_storm_data['0'].contains('AL')).withColumnRenamed('0', 'storm_id') \\\n",
    ".withColumnRenamed('1', 'storm_name').withColumnRenamed('2', 'entries') \\\n",
    ".drop('3', '4', '5', '6', '7', '8', '9', '10', '11', '12', '13', '14', '15', '16', '17', '18', '19', '20')\n",
    "\n",
    "atlantic_storms_by_year = identified_storms.withColumn('storm_id', F.trim(identified_storms.storm_id)) \\\n",
    ".withColumn('storm_name', F.trim(F.upper(F.col('storm_name')))) \\\n",
    ".withColumn('entries', F.trim(identified_storms.entries).cast(IntegerType())) \\\n",
    ".withColumn('basin', F.substring(F.col('storm_id'), 1, 2)) \\\n",
    ".withColumn('atcf_cyclone_num', F.substring(F.col('storm_id'), 3, 2).cast(IntegerType())) \\\n",
    ".withColumn('storm_year', F.substring(F.col('storm_id'), 5, 8).cast(IntegerType())) \\\n",
    ".withColumn('header_id', identified_storms._c0.cast(IntegerType())) \\\n",
    ".drop('_c0') \\\n",
    ".dropDuplicates()\n",
    "\n",
    "atlantic_storms_header = atlantic_storms_by_year.withColumn('header_id', atlantic_storms_by_year['header_id'].cast(IntegerType())).orderBy(F.asc('header_id')) \\\n",
    ".select('header_id', 'storm_id', 'storm_name', 'entries', 'basin', 'atcf_cyclone_num', 'storm_year')"
   ]
  },
  {
   "cell_type": "code",
   "execution_count": 26,
   "metadata": {
    "execution": {
     "iopub.execute_input": "2022-10-17T23:09:31.659701Z",
     "iopub.status.busy": "2022-10-17T23:09:31.659115Z",
     "iopub.status.idle": "2022-10-17T23:10:22.861046Z",
     "shell.execute_reply": "2022-10-17T23:10:22.859797Z",
     "shell.execute_reply.started": "2022-10-17T23:09:31.659658Z"
    }
   },
   "outputs": [
    {
     "data": {
      "application/vnd.jupyter.widget-view+json": {
       "model_id": "131374f1a4c14b6eab0e0e1a8bb681aa",
       "version_major": 2,
       "version_minor": 0
      },
      "text/plain": [
       "VBox()"
      ]
     },
     "metadata": {},
     "output_type": "display_data"
    },
    {
     "data": {
      "application/vnd.jupyter.widget-view+json": {
       "model_id": "",
       "version_major": 2,
       "version_minor": 0
      },
      "text/plain": [
       "FloatProgress(value=0.0, bar_style='info', description='Progress:', layout=Layout(height='25px', width='50%'),…"
      ]
     },
     "metadata": {},
     "output_type": "display_data"
    }
   ],
   "source": [
    "atlantic_storms_header.write.mode('overwrite').parquet(os.path.join(bucket, 'transformed_data/dim_tables/storm_data/storm_headers.parquet'))"
   ]
  },
  {
   "cell_type": "code",
   "execution_count": 27,
   "metadata": {
    "editable": true,
    "execution": {
     "iopub.execute_input": "2022-10-17T23:10:22.868036Z",
     "iopub.status.busy": "2022-10-17T23:10:22.867689Z",
     "iopub.status.idle": "2022-10-17T23:10:24.458634Z",
     "shell.execute_reply": "2022-10-17T23:10:24.457230Z",
     "shell.execute_reply.started": "2022-10-17T23:10:22.868004Z"
    }
   },
   "outputs": [
    {
     "data": {
      "application/vnd.jupyter.widget-view+json": {
       "model_id": "9e1c1986dcd54fac8a8f67289cb8f3eb",
       "version_major": 2,
       "version_minor": 0
      },
      "text/plain": [
       "VBox()"
      ]
     },
     "metadata": {},
     "output_type": "display_data"
    },
    {
     "data": {
      "application/vnd.jupyter.widget-view+json": {
       "model_id": "",
       "version_major": 2,
       "version_minor": 0
      },
      "text/plain": [
       "FloatProgress(value=0.0, bar_style='info', description='Progress:', layout=Layout(height='25px', width='50%'),…"
      ]
     },
     "metadata": {},
     "output_type": "display_data"
    },
    {
     "name": "stdout",
     "output_type": "stream",
     "text": [
      "+---------+--------+----------+-------+-----+----------------+----------+\n",
      "|header_id|storm_id|storm_name|entries|basin|atcf_cyclone_num|storm_year|\n",
      "+---------+--------+----------+-------+-----+----------------+----------+\n",
      "|        0|AL011851|   UNNAMED|     14|   AL|               1|      1851|\n",
      "|       15|AL021851|   UNNAMED|      1|   AL|               2|      1851|\n",
      "|       17|AL031851|   UNNAMED|      1|   AL|               3|      1851|\n",
      "|       19|AL041851|   UNNAMED|     49|   AL|               4|      1851|\n",
      "|       69|AL051851|   UNNAMED|     16|   AL|               5|      1851|\n",
      "+---------+--------+----------+-------+-----+----------------+----------+\n",
      "only showing top 5 rows"
     ]
    }
   ],
   "source": [
    "atlantic_storms_header.show(5)"
   ]
  },
  {
   "cell_type": "markdown",
   "metadata": {
    "editable": true
   },
   "source": [
    "Atlantic storms stats table (helper)"
   ]
  },
  {
   "cell_type": "code",
   "execution_count": 28,
   "metadata": {
    "editable": true,
    "execution": {
     "iopub.execute_input": "2022-10-17T23:10:24.461684Z",
     "iopub.status.busy": "2022-10-17T23:10:24.460776Z",
     "iopub.status.idle": "2022-10-17T23:10:27.563436Z",
     "shell.execute_reply": "2022-10-17T23:10:27.562197Z",
     "shell.execute_reply.started": "2022-10-17T23:10:24.461637Z"
    },
    "tags": []
   },
   "outputs": [
    {
     "data": {
      "application/vnd.jupyter.widget-view+json": {
       "model_id": "fab0d2917d4b4611a3633d6d5fcb0b36",
       "version_major": 2,
       "version_minor": 0
      },
      "text/plain": [
       "VBox()"
      ]
     },
     "metadata": {},
     "output_type": "display_data"
    },
    {
     "data": {
      "application/vnd.jupyter.widget-view+json": {
       "model_id": "",
       "version_major": 2,
       "version_minor": 0
      },
      "text/plain": [
       "FloatProgress(value=0.0, bar_style='info', description='Progress:', layout=Layout(height='25px', width='50%'),…"
      ]
     },
     "metadata": {},
     "output_type": "display_data"
    }
   ],
   "source": [
    "spark_storm_stats = raw_storm_data.filter(~raw_storm_data['0'].contains('AL')) \\\n",
    ".withColumnRenamed('0', 'date') \\\n",
    ".withColumnRenamed('1', 'time') \\\n",
    ".withColumnRenamed('2', 'record_identifier') \\\n",
    ".withColumnRenamed('3', 'storm_status') \\\n",
    ".withColumnRenamed('4', 'latitude') \\\n",
    ".withColumnRenamed('5', 'longitude') \\\n",
    ".withColumnRenamed('6', 'max_sustained_wind_kt')\\\n",
    ".withColumnRenamed('7', 'min_pressure_mbar') \\\n",
    ".drop('8', '9', '10', '11', '12', '13', '14', '15', '16', '17', '18', '19', '20')\n",
    "\n",
    "spark_storm_stats = spark_storm_stats.withColumn('storm_date', F.trim(spark_storm_stats.date)) \\\n",
    ".withColumn('storm_time', F.trim(spark_storm_stats.time)) \\\n",
    ".withColumn('record_identifier', F.trim(spark_storm_stats.record_identifier)) \\\n",
    ".withColumn('storm_status', F.trim(spark_storm_stats.storm_status)) \\\n",
    ".withColumn('max_sustained_wind_kt', F.trim(spark_storm_stats['max_sustained_wind_kt']).cast(IntegerType()))\\\n",
    ".withColumn('min_pressure_mbar', F.trim(spark_storm_stats['min_pressure_mbar']).cast(IntegerType())) \\\n",
    ".withColumn('stat_id', spark_storm_stats._c0.cast(IntegerType()))\n",
    "\n",
    "# extract year, month, and day from date column\n",
    "spark_storm_stats = spark_storm_stats.withColumn('storm_date', F.to_date(F.col('date'),'yyyyMMdd') )\n",
    "spark_storm_stats = spark_storm_stats.withColumn('storm_year', F.year(spark_storm_stats.storm_date).cast(IntegerType())) \\\n",
    ".withColumn('storm_month', F.month(spark_storm_stats.storm_date).cast(IntegerType())) \\\n",
    ".withColumn('storm_day', F.dayofmonth(spark_storm_stats.storm_date).cast(IntegerType())) \n",
    "\n",
    "spark_storm_stats = spark_storm_stats.select('stat_id', 'storm_date', 'storm_year', 'storm_month', 'storm_day', 'storm_time', 'record_identifier', \n",
    "                           'storm_status', 'latitude', 'longitude', 'max_sustained_wind_kt', 'min_pressure_mbar')\n",
    "\n",
    "atlantic_storm_stats = spark_storm_stats.toPandas()\n",
    "\n",
    "# tranform storm_status and record_identifier in atlantic_storms_stats\n",
    "atlantic_storm_stats.storm_status = atlantic_storm_stats.storm_status.str.strip() \\\n",
    ".map({'HU': 'hurricane', 'TS': 'tropical storm', 'EX': 'extratropical cyclone',\n",
    "     'TD': 'tropical depression', 'LO': 'low pressure system', 'DB': 'disturbance', \n",
    "      'SD': 'subtropical depression', 'SS': 'subtropical storm', 'WV': 'tropical wave'})\n",
    "\n",
    "atlantic_storm_stats.record_identifier = atlantic_storm_stats.record_identifier.str.strip()  \\\n",
    ".map({'': '', 'L': 'landfall', 'R': 'intensity details with rapid changes',\n",
    "      'I': 'pressure and wind intensity peak', 'P': 'min central pressure',\n",
    "      'T': 'clarify track detail', 'W': 'max sustained wind speed',\n",
    "      'C': 'approach to coast, no landfall', 'S': 'status change in system',\n",
    "      'G': 'genesis of the system'})\n",
    "\n",
    "# transform lat and long\n",
    "lat_north = pd.to_numeric(atlantic_storm_stats['latitude'].str[:-1])\n",
    "lat_south = pd.to_numeric(atlantic_storm_stats['latitude'].str[:-1])*-1\n",
    "long_east = pd.to_numeric(atlantic_storm_stats['longitude'].str[:-1])\n",
    "long_west = pd.to_numeric(atlantic_storm_stats['longitude'].str[:-1])*-1\n",
    "\n",
    "atlantic_storm_stats['latitude'] = np.where(\n",
    "    atlantic_storm_stats['latitude'].str[-1:] == 'N', lat_north, lat_south)\n",
    "atlantic_storm_stats['longitude'] = np.where(\n",
    "    atlantic_storm_stats['longitude'].str[-1:] == 'E', long_east, long_west)\n",
    "\n",
    "# get hurricane category by sustained_wind(kt)\n",
    "\n",
    "atlantic_storm_stats['storm_category'] = np.where((atlantic_storm_stats['max_sustained_wind_kt'] < wind_scale['min_sustained_wind_kt'][0]), atlantic_storm_stats['storm_status'], 'uncategorized')\n",
    "atlantic_storm_stats['storm_category'] = np.where((atlantic_storm_stats['max_sustained_wind_kt'].between(wind_scale['min_sustained_wind_kt'][0], wind_scale['max_sustained_wind_kt'][0]+1)), wind_scale['category'][0], atlantic_storm_stats['storm_category'])\n",
    "atlantic_storm_stats['storm_category'] = np.where((atlantic_storm_stats['max_sustained_wind_kt'].between(wind_scale['min_sustained_wind_kt'][1], wind_scale['max_sustained_wind_kt'][1]+1)), wind_scale['category'][1], atlantic_storm_stats['storm_category'])\n",
    "atlantic_storm_stats['storm_category'] = np.where((atlantic_storm_stats['max_sustained_wind_kt'].between(wind_scale['min_sustained_wind_kt'][2], wind_scale['max_sustained_wind_kt'][2]+1)), wind_scale['category'][2], atlantic_storm_stats['storm_category'])\n",
    "atlantic_storm_stats['storm_category'] = np.where((atlantic_storm_stats['max_sustained_wind_kt'].between(wind_scale['min_sustained_wind_kt'][3], wind_scale['max_sustained_wind_kt'][3]+1)), wind_scale['category'][3], atlantic_storm_stats['storm_category'])\n",
    "atlantic_storm_stats['storm_category'] = np.where((atlantic_storm_stats['max_sustained_wind_kt'] >= wind_scale['min_sustained_wind_kt'][4]), wind_scale['category'][4], atlantic_storm_stats['storm_category'])\n",
    "\n",
    "pd_storm_stats = atlantic_storm_stats[['stat_id', 'storm_date', 'storm_year', 'storm_month', 'storm_day', 'storm_time', \n",
    "      'record_identifier', 'storm_status', 'storm_category', 'latitude', 'longitude', 'max_sustained_wind_kt', 'min_pressure_mbar']]"
   ]
  },
  {
   "cell_type": "markdown",
   "metadata": {
    "editable": true
   },
   "source": [
    "#### Define some schemas for storm data"
   ]
  },
  {
   "cell_type": "code",
   "execution_count": 29,
   "metadata": {
    "editable": true,
    "execution": {
     "iopub.execute_input": "2022-10-17T23:10:27.565229Z",
     "iopub.status.busy": "2022-10-17T23:10:27.564729Z",
     "iopub.status.idle": "2022-10-17T23:10:28.078158Z",
     "shell.execute_reply": "2022-10-17T23:10:28.077077Z",
     "shell.execute_reply.started": "2022-10-17T23:10:27.565187Z"
    },
    "tags": []
   },
   "outputs": [
    {
     "data": {
      "application/vnd.jupyter.widget-view+json": {
       "model_id": "a38b8353dd914cebae3b9639c3a4c072",
       "version_major": 2,
       "version_minor": 0
      },
      "text/plain": [
       "VBox()"
      ]
     },
     "metadata": {},
     "output_type": "display_data"
    },
    {
     "data": {
      "application/vnd.jupyter.widget-view+json": {
       "model_id": "",
       "version_major": 2,
       "version_minor": 0
      },
      "text/plain": [
       "FloatProgress(value=0.0, bar_style='info', description='Progress:', layout=Layout(height='25px', width='50%'),…"
      ]
     },
     "metadata": {},
     "output_type": "display_data"
    }
   ],
   "source": [
    "from pyspark.sql.types import StructType as R, StructField as Fld\n",
    "\n",
    "storm_stats_schema = StructType([\n",
    "    StructField('index', StringType()),\n",
    "    StructField('storm_date', DateType()),\n",
    "    StructField('storm_year', IntegerType()),\n",
    "    StructField('storm_month', IntegerType()),\n",
    "    StructField('storm_day', IntegerType()),\n",
    "    StructField('storm_time', StringType()),\n",
    "    StructField('record_identifier', StringType()),\n",
    "    StructField('storm_status', StringType()),\n",
    "    StructField('category', StringType()),\n",
    "    StructField('latitude', DoubleType()),\n",
    "    StructField('longitude', DoubleType()),\n",
    "    StructField('max_sustained_wind_kt', IntegerType()),\n",
    "    StructField('min_pressure_mbar', IntegerType())\n",
    "])\n",
    "\n",
    "storm_schema = R([\n",
    "    Fld('storm_id', StringType()),\n",
    "    Fld('basin', StringType()),\n",
    "    Fld('atcf_cyclone_num', IntegerType()),\n",
    "    Fld('storm_name', StringType()),\n",
    "    Fld('storm_date', DateType()),\n",
    "    Fld('storm_year', IntegerType()),\n",
    "    Fld('storm_month', IntegerType()),\n",
    "    Fld('storm_day', IntegerType()),\n",
    "    Fld('storm_time', StringType()),\n",
    "    Fld('record_identifier', StringType()),\n",
    "    Fld('storm_status', StringType()),\n",
    "    Fld('storm_category', StringType()),\n",
    "    Fld('latitude', DoubleType()),\n",
    "    Fld('longitude', DoubleType()),\n",
    "    Fld('max_sustained_wind_kt', IntegerType()),\n",
    "    Fld('min_pressure_mbar', IntegerType())\n",
    "])"
   ]
  },
  {
   "cell_type": "code",
   "execution_count": 30,
   "metadata": {
    "editable": true,
    "execution": {
     "iopub.execute_input": "2022-10-17T23:10:28.154709Z",
     "iopub.status.busy": "2022-10-17T23:10:28.154272Z",
     "iopub.status.idle": "2022-10-17T23:10:29.809681Z",
     "shell.execute_reply": "2022-10-17T23:10:29.796651Z",
     "shell.execute_reply.started": "2022-10-17T23:10:28.154665Z"
    },
    "tags": []
   },
   "outputs": [
    {
     "data": {
      "application/vnd.jupyter.widget-view+json": {
       "model_id": "ab95445b9b8840de8e86d944ce7893e9",
       "version_major": 2,
       "version_minor": 0
      },
      "text/plain": [
       "VBox()"
      ]
     },
     "metadata": {},
     "output_type": "display_data"
    },
    {
     "data": {
      "application/vnd.jupyter.widget-view+json": {
       "model_id": "",
       "version_major": 2,
       "version_minor": 0
      },
      "text/plain": [
       "FloatProgress(value=0.0, bar_style='info', description='Progress:', layout=Layout(height='25px', width='50%'),…"
      ]
     },
     "metadata": {},
     "output_type": "display_data"
    }
   ],
   "source": [
    "atlantic_storm_stats = spark.createDataFrame(pd_storm_stats, storm_stats_schema)"
   ]
  },
  {
   "cell_type": "code",
   "execution_count": 31,
   "metadata": {
    "editable": true,
    "execution": {
     "iopub.execute_input": "2022-10-17T23:10:29.820721Z",
     "iopub.status.busy": "2022-10-17T23:10:29.819849Z",
     "iopub.status.idle": "2022-10-17T23:10:33.714491Z",
     "shell.execute_reply": "2022-10-17T23:10:33.713576Z",
     "shell.execute_reply.started": "2022-10-17T23:10:29.820673Z"
    },
    "tags": []
   },
   "outputs": [
    {
     "data": {
      "application/vnd.jupyter.widget-view+json": {
       "model_id": "d57171ada48d419f9b06c825a73ce7fa",
       "version_major": 2,
       "version_minor": 0
      },
      "text/plain": [
       "VBox()"
      ]
     },
     "metadata": {},
     "output_type": "display_data"
    },
    {
     "data": {
      "application/vnd.jupyter.widget-view+json": {
       "model_id": "",
       "version_major": 2,
       "version_minor": 0
      },
      "text/plain": [
       "FloatProgress(value=0.0, bar_style='info', description='Progress:', layout=Layout(height='25px', width='50%'),…"
      ]
     },
     "metadata": {},
     "output_type": "display_data"
    }
   ],
   "source": [
    "atlantic_storm_stats.write.mode('overwrite').parquet(os.path.join(bucket, 'transformed_data/dim_tables/storm_data/storm_stats.parquet'))"
   ]
  },
  {
   "cell_type": "code",
   "execution_count": 32,
   "metadata": {
    "execution": {
     "iopub.execute_input": "2022-10-17T23:10:33.719148Z",
     "iopub.status.busy": "2022-10-17T23:10:33.718501Z",
     "iopub.status.idle": "2022-10-17T23:10:34.193015Z",
     "shell.execute_reply": "2022-10-17T23:10:34.191998Z",
     "shell.execute_reply.started": "2022-10-17T23:10:33.719104Z"
    }
   },
   "outputs": [
    {
     "data": {
      "application/vnd.jupyter.widget-view+json": {
       "model_id": "79c67c1cd49e42b68f3b41d0ea39d82a",
       "version_major": 2,
       "version_minor": 0
      },
      "text/plain": [
       "VBox()"
      ]
     },
     "metadata": {},
     "output_type": "display_data"
    },
    {
     "data": {
      "application/vnd.jupyter.widget-view+json": {
       "model_id": "",
       "version_major": 2,
       "version_minor": 0
      },
      "text/plain": [
       "FloatProgress(value=0.0, bar_style='info', description='Progress:', layout=Layout(height='25px', width='50%'),…"
      ]
     },
     "metadata": {},
     "output_type": "display_data"
    },
    {
     "name": "stdout",
     "output_type": "stream",
     "text": [
      "+-----+----------+----------+-----------+---------+----------+-----------------+------------+--------+--------+---------+---------------------+-----------------+\n",
      "|index|storm_date|storm_year|storm_month|storm_day|storm_time|record_identifier|storm_status|category|latitude|longitude|max_sustained_wind_kt|min_pressure_mbar|\n",
      "+-----+----------+----------+-----------+---------+----------+-----------------+------------+--------+--------+---------+---------------------+-----------------+\n",
      "|    1|1851-06-25|      1851|          6|       25|      0000|                 |   hurricane|       1|    28.0|    -94.8|                   80|             -999|\n",
      "|    2|1851-06-25|      1851|          6|       25|      0600|                 |   hurricane|       1|    28.0|    -95.4|                   80|             -999|\n",
      "|    3|1851-06-25|      1851|          6|       25|      1200|                 |   hurricane|       1|    28.0|    -96.0|                   80|             -999|\n",
      "|    4|1851-06-25|      1851|          6|       25|      1800|                 |   hurricane|       1|    28.1|    -96.5|                   80|             -999|\n",
      "|    5|1851-06-25|      1851|          6|       25|      2100|         landfall|   hurricane|       1|    28.2|    -96.8|                   80|             -999|\n",
      "+-----+----------+----------+-----------+---------+----------+-----------------+------------+--------+--------+---------+---------------------+-----------------+\n",
      "only showing top 5 rows"
     ]
    }
   ],
   "source": [
    "atlantic_storm_stats.show(5)"
   ]
  },
  {
   "cell_type": "markdown",
   "metadata": {
    "editable": true
   },
   "source": [
    "### Atlantic Storms Table (PANDAS)"
   ]
  },
  {
   "cell_type": "code",
   "execution_count": 33,
   "metadata": {
    "editable": true,
    "execution": {
     "iopub.execute_input": "2022-10-17T23:10:34.194642Z",
     "iopub.status.busy": "2022-10-17T23:10:34.194362Z",
     "iopub.status.idle": "2022-10-17T23:10:44.327520Z",
     "shell.execute_reply": "2022-10-17T23:10:44.326344Z",
     "shell.execute_reply.started": "2022-10-17T23:10:34.194614Z"
    },
    "tags": []
   },
   "outputs": [
    {
     "data": {
      "application/vnd.jupyter.widget-view+json": {
       "model_id": "f3e020afd94b419d9d84043f1d5ab96d",
       "version_major": 2,
       "version_minor": 0
      },
      "text/plain": [
       "VBox()"
      ]
     },
     "metadata": {},
     "output_type": "display_data"
    },
    {
     "data": {
      "application/vnd.jupyter.widget-view+json": {
       "model_id": "",
       "version_major": 2,
       "version_minor": 0
      },
      "text/plain": [
       "FloatProgress(value=0.0, bar_style='info', description='Progress:', layout=Layout(height='25px', width='50%'),…"
      ]
     },
     "metadata": {},
     "output_type": "display_data"
    }
   ],
   "source": [
    "data = []\n",
    "\n",
    "storms_by_year = atlantic_storms_header.toPandas()\n",
    "\n",
    "storm_ids = list(storms_by_year.storm_id)\n",
    "names = list(storms_by_year.storm_name)\n",
    "basins = list(storms_by_year.basin)\n",
    "cyclone_nums = list(storms_by_year.atcf_cyclone_num)\n",
    "entries = storms_by_year.entries.apply(lambda x: int(x)).tolist()\n",
    "\n",
    "cols = ['storm_id', 'storm_name', 'basin', 'atcf_cyclone_num', 'storm_date', 'storm_year', 'storm_time', 'record_identifier',\n",
    "    'storm_status', 'storm_category', 'latitude', 'longitude', 'max_sustained_wind_kt', 'min_pressure_mbar']\n",
    "\n",
    "for i, nrows, nxt in zip(range(len(storms_by_year['header_id'])), entries, storms_by_year['header_id']):\n",
    "    temp_df = pd.DataFrame(pd_storm_stats.loc[(pd_storm_stats['stat_id'] >= nxt) & (pd_storm_stats['stat_id'] <= (nxt + nrows))])\n",
    "    temp_df['storm_id'] = storm_ids[i]\n",
    "    temp_df['storm_name'] = names[i]\n",
    "    temp_df['basin'] = basins[i]\n",
    "    temp_df['atcf_cyclone_num'] = cyclone_nums[i]\n",
    "    temp_df = temp_df[cols]\n",
    "    data.append(temp_df)\n",
    "\n",
    "pd_atlantic_storms = pd.concat(\n",
    "        data).reset_index(drop=True)[['storm_id', 'basin', 'atcf_cyclone_num', 'storm_name', 'storm_date', 'storm_year', 'storm_time', 'record_identifier',\n",
    "        'storm_status', 'storm_category', 'latitude', 'longitude', 'max_sustained_wind_kt', 'min_pressure_mbar']]"
   ]
  },
  {
   "cell_type": "code",
   "execution_count": 34,
   "metadata": {
    "editable": true,
    "execution": {
     "iopub.execute_input": "2022-10-17T23:10:44.329888Z",
     "iopub.status.busy": "2022-10-17T23:10:44.329334Z",
     "iopub.status.idle": "2022-10-17T23:10:51.956541Z",
     "shell.execute_reply": "2022-10-17T23:10:51.955500Z",
     "shell.execute_reply.started": "2022-10-17T23:10:44.329683Z"
    },
    "tags": []
   },
   "outputs": [
    {
     "data": {
      "application/vnd.jupyter.widget-view+json": {
       "model_id": "f216f181d38542dc9526c68b1b016884",
       "version_major": 2,
       "version_minor": 0
      },
      "text/plain": [
       "VBox()"
      ]
     },
     "metadata": {},
     "output_type": "display_data"
    },
    {
     "data": {
      "application/vnd.jupyter.widget-view+json": {
       "model_id": "",
       "version_major": 2,
       "version_minor": 0
      },
      "text/plain": [
       "FloatProgress(value=0.0, bar_style='info', description='Progress:', layout=Layout(height='25px', width='50%'),…"
      ]
     },
     "metadata": {},
     "output_type": "display_data"
    }
   ],
   "source": [
    "atlantic_storms = spark.createDataFrame(pd_atlantic_storms)\n",
    "\n",
    "atlantic_storms = atlantic_storms.withColumn('atl_id', F.row_number().over(Window.partitionBy().orderBy('storm_id'))) \\\n",
    ".select('atl_id', 'storm_id', 'basin', 'atcf_cyclone_num', 'storm_name', 'storm_date', 'storm_year', 'storm_time', 'record_identifier',\n",
    "    'storm_status', 'storm_category', 'latitude', 'longitude', 'max_sustained_wind_kt', 'min_pressure_mbar')"
   ]
  },
  {
   "cell_type": "code",
   "execution_count": 35,
   "metadata": {
    "editable": true,
    "execution": {
     "iopub.execute_input": "2022-10-17T23:10:51.958450Z",
     "iopub.status.busy": "2022-10-17T23:10:51.958111Z",
     "iopub.status.idle": "2022-10-17T23:10:55.857276Z",
     "shell.execute_reply": "2022-10-17T23:10:55.855972Z",
     "shell.execute_reply.started": "2022-10-17T23:10:51.958412Z"
    },
    "tags": []
   },
   "outputs": [
    {
     "data": {
      "application/vnd.jupyter.widget-view+json": {
       "model_id": "40d6eddd26734312ba8b6c4b5debfcc1",
       "version_major": 2,
       "version_minor": 0
      },
      "text/plain": [
       "VBox()"
      ]
     },
     "metadata": {},
     "output_type": "display_data"
    },
    {
     "data": {
      "application/vnd.jupyter.widget-view+json": {
       "model_id": "",
       "version_major": 2,
       "version_minor": 0
      },
      "text/plain": [
       "FloatProgress(value=0.0, bar_style='info', description='Progress:', layout=Layout(height='25px', width='50%'),…"
      ]
     },
     "metadata": {},
     "output_type": "display_data"
    }
   ],
   "source": [
    "atlantic_storms.write.mode('overwrite').parquet(os.path.join(bucket, 'transformed_data/dim_tables/storm_data/atlantic_storms.parquet'))"
   ]
  },
  {
   "cell_type": "code",
   "execution_count": 36,
   "metadata": {
    "editable": true,
    "execution": {
     "iopub.execute_input": "2022-10-17T23:10:55.859266Z",
     "iopub.status.busy": "2022-10-17T23:10:55.858741Z",
     "iopub.status.idle": "2022-10-17T23:10:57.029588Z",
     "shell.execute_reply": "2022-10-17T23:10:57.028524Z",
     "shell.execute_reply.started": "2022-10-17T23:10:55.859225Z"
    },
    "tags": []
   },
   "outputs": [
    {
     "data": {
      "application/vnd.jupyter.widget-view+json": {
       "model_id": "f5ca1e9d64084b9d87bc00e233b68f1c",
       "version_major": 2,
       "version_minor": 0
      },
      "text/plain": [
       "VBox()"
      ]
     },
     "metadata": {},
     "output_type": "display_data"
    },
    {
     "data": {
      "application/vnd.jupyter.widget-view+json": {
       "model_id": "",
       "version_major": 2,
       "version_minor": 0
      },
      "text/plain": [
       "FloatProgress(value=0.0, bar_style='info', description='Progress:', layout=Layout(height='25px', width='50%'),…"
      ]
     },
     "metadata": {},
     "output_type": "display_data"
    },
    {
     "name": "stdout",
     "output_type": "stream",
     "text": [
      "+------+--------+-----+----------------+----------+----------+----------+----------+-----------------+------------+--------------+--------+---------+---------------------+-----------------+\n",
      "|atl_id|storm_id|basin|atcf_cyclone_num|storm_name|storm_date|storm_year|storm_time|record_identifier|storm_status|storm_category|latitude|longitude|max_sustained_wind_kt|min_pressure_mbar|\n",
      "+------+--------+-----+----------------+----------+----------+----------+----------+-----------------+------------+--------------+--------+---------+---------------------+-----------------+\n",
      "|     1|AL011851|   AL|               1|   UNNAMED|1851-06-25|      1851|      0000|                 |   hurricane|             1|    28.0|    -94.8|                   80|             -999|\n",
      "|     2|AL011851|   AL|               1|   UNNAMED|1851-06-25|      1851|      0600|                 |   hurricane|             1|    28.0|    -95.4|                   80|             -999|\n",
      "|     3|AL011851|   AL|               1|   UNNAMED|1851-06-25|      1851|      1200|                 |   hurricane|             1|    28.0|    -96.0|                   80|             -999|\n",
      "|     4|AL011851|   AL|               1|   UNNAMED|1851-06-25|      1851|      1800|                 |   hurricane|             1|    28.1|    -96.5|                   80|             -999|\n",
      "|     5|AL011851|   AL|               1|   UNNAMED|1851-06-25|      1851|      2100|         landfall|   hurricane|             1|    28.2|    -96.8|                   80|             -999|\n",
      "+------+--------+-----+----------------+----------+----------+----------+----------+-----------------+------------+--------------+--------+---------+---------------------+-----------------+\n",
      "only showing top 5 rows"
     ]
    }
   ],
   "source": [
    "atlantic_storms.show(5)"
   ]
  },
  {
   "cell_type": "markdown",
   "metadata": {
    "editable": true
   },
   "source": [
    "### Named Atlantic Storms with US Landfall Table"
   ]
  },
  {
   "cell_type": "markdown",
   "metadata": {
    "editable": true
   },
   "source": [
    "Geopy to map latitude and longitude to location"
   ]
  },
  {
   "cell_type": "code",
   "execution_count": 37,
   "metadata": {
    "editable": true,
    "execution": {
     "iopub.execute_input": "2022-10-17T23:10:57.032061Z",
     "iopub.status.busy": "2022-10-17T23:10:57.031332Z",
     "iopub.status.idle": "2022-10-17T23:16:37.536912Z",
     "shell.execute_reply": "2022-10-17T23:16:37.535782Z",
     "shell.execute_reply.started": "2022-10-17T23:10:57.032019Z"
    },
    "tags": []
   },
   "outputs": [
    {
     "data": {
      "application/vnd.jupyter.widget-view+json": {
       "model_id": "822408c4e4f24ff7b493e0c359ebf93d",
       "version_major": 2,
       "version_minor": 0
      },
      "text/plain": [
       "VBox()"
      ]
     },
     "metadata": {},
     "output_type": "display_data"
    },
    {
     "data": {
      "application/vnd.jupyter.widget-view+json": {
       "model_id": "",
       "version_major": 2,
       "version_minor": 0
      },
      "text/plain": [
       "FloatProgress(value=0.0, bar_style='info', description='Progress:', layout=Layout(height='25px', width='50%'),…"
      ]
     },
     "metadata": {},
     "output_type": "display_data"
    }
   ],
   "source": [
    "import ssl\n",
    "import certifi\n",
    "import geopy.geocoders\n",
    "from geopy.geocoders import Nominatim\n",
    "\n",
    "geopy.geocoders.options.default_ssl_context=ssl.create_default_context(cafile=certifi.where())\n",
    "\n",
    "geolocator=Nominatim(user_agent=\"capstone\", scheme='http', timeout=None)\n",
    "\n",
    "pd_atlantic_storms = atlantic_storms.toPandas()\n",
    "\n",
    "pd_state_data = state_data.toPandas()\n",
    "\n",
    "named_atlantic_storms=pd_atlantic_storms.loc[~pd_atlantic_storms['storm_name'].str.contains(\n",
    "    'UNNAMED')]\n",
    "records=named_atlantic_storms.loc[named_atlantic_storms['record_identifier'] == 'landfall'].reset_index(\n",
    "    drop=True)\n",
    "\n",
    "states_with_codes=dict(\n",
    "    zip(pd_state_data['state'], pd_state_data['state_code']))\n",
    "\n",
    "location_data=[]\n",
    "no_state=0\n",
    "\n",
    "for row in records.itertuples(index=False):\n",
    "    dct={}\n",
    "    location=geolocator.reverse(f'{row.latitude}, {row.longitude}')\n",
    "    if location is not None:\n",
    "        storm_state=location.raw.get('address').get('state')\n",
    "        if storm_state not in states_with_codes.keys():\n",
    "            no_state+=1\n",
    "            continue\n",
    "        else:\n",
    "            dct['atl_id']=row.atl_id\n",
    "            dct['storm_id']=row.storm_id\n",
    "            dct['storm_name']=row.storm_name\n",
    "            dct['storm_year']=row.storm_year\n",
    "            dct['storm_status']=row.storm_status\n",
    "            dct['storm_category']=row.storm_category\n",
    "            dct['state']=storm_state\n",
    "            dct['latitude']=row.latitude\n",
    "            dct['longitude']=row.longitude\n",
    "            temp_df=pd.DataFrame([dct], columns=['storm_id', 'storm_name', 'storm_year',\n",
    "                                 'storm_status', 'storm_category', 'latitude', 'longitude', 'state'])\n",
    "            location_data.append(temp_df)\n",
    "    else:\n",
    "        no_state+=1\n",
    "\n",
    "storms_with_landfall=pd.concat(location_data, sort=False).reset_index().drop_duplicates()"
   ]
  },
  {
   "cell_type": "code",
   "execution_count": 38,
   "metadata": {
    "editable": true,
    "execution": {
     "iopub.execute_input": "2022-10-17T23:16:37.539170Z",
     "iopub.status.busy": "2022-10-17T23:16:37.538722Z",
     "iopub.status.idle": "2022-10-17T23:16:37.796284Z",
     "shell.execute_reply": "2022-10-17T23:16:37.795346Z",
     "shell.execute_reply.started": "2022-10-17T23:16:37.539126Z"
    },
    "tags": []
   },
   "outputs": [
    {
     "data": {
      "application/vnd.jupyter.widget-view+json": {
       "model_id": "9606bb9a0a9f47c68c6401256011ccd0",
       "version_major": 2,
       "version_minor": 0
      },
      "text/plain": [
       "VBox()"
      ]
     },
     "metadata": {},
     "output_type": "display_data"
    },
    {
     "data": {
      "application/vnd.jupyter.widget-view+json": {
       "model_id": "",
       "version_major": 2,
       "version_minor": 0
      },
      "text/plain": [
       "FloatProgress(value=0.0, bar_style='info', description='Progress:', layout=Layout(height='25px', width='50%'),…"
      ]
     },
     "metadata": {},
     "output_type": "display_data"
    }
   ],
   "source": [
    "swl = spark.createDataFrame(storms_with_landfall)\n",
    "\n",
    "swl = swl.withColumn('swl_id', F.row_number().over(Window.partitionBy().orderBy('storm_id', 'storm_name')))\n",
    "\n",
    "named_atlantic_storms_with_us_landfall = swl.join(state_data, 'state', 'inner').select(swl.swl_id, swl.storm_id, swl.storm_name, swl.storm_year,\n",
    "                                 swl.storm_status, swl.storm_category, state_data.state_code)"
   ]
  },
  {
   "cell_type": "code",
   "execution_count": 39,
   "metadata": {
    "editable": true,
    "execution": {
     "iopub.execute_input": "2022-10-17T23:16:37.802169Z",
     "iopub.status.busy": "2022-10-17T23:16:37.801846Z",
     "iopub.status.idle": "2022-10-17T23:16:59.800938Z",
     "shell.execute_reply": "2022-10-17T23:16:59.799661Z",
     "shell.execute_reply.started": "2022-10-17T23:16:37.802137Z"
    }
   },
   "outputs": [
    {
     "data": {
      "application/vnd.jupyter.widget-view+json": {
       "model_id": "2173f8d19bbf416392195d9328de2e8e",
       "version_major": 2,
       "version_minor": 0
      },
      "text/plain": [
       "VBox()"
      ]
     },
     "metadata": {},
     "output_type": "display_data"
    },
    {
     "data": {
      "application/vnd.jupyter.widget-view+json": {
       "model_id": "",
       "version_major": 2,
       "version_minor": 0
      },
      "text/plain": [
       "FloatProgress(value=0.0, bar_style='info', description='Progress:', layout=Layout(height='25px', width='50%'),…"
      ]
     },
     "metadata": {},
     "output_type": "display_data"
    }
   ],
   "source": [
    "named_atlantic_storms_with_us_landfall.write.mode('overwrite').parquet(os.path.join(bucket, 'transformed_data/fact_tables/storms_with_us_landfall.parquet'))"
   ]
  },
  {
   "cell_type": "code",
   "execution_count": 40,
   "metadata": {
    "editable": true,
    "execution": {
     "iopub.execute_input": "2022-10-17T23:16:59.806221Z",
     "iopub.status.busy": "2022-10-17T23:16:59.805916Z",
     "iopub.status.idle": "2022-10-17T23:17:00.943326Z",
     "shell.execute_reply": "2022-10-17T23:17:00.942117Z",
     "shell.execute_reply.started": "2022-10-17T23:16:59.806190Z"
    },
    "tags": []
   },
   "outputs": [
    {
     "data": {
      "application/vnd.jupyter.widget-view+json": {
       "model_id": "3c329e9e199f496aa2033e31ee9a9ac0",
       "version_major": 2,
       "version_minor": 0
      },
      "text/plain": [
       "VBox()"
      ]
     },
     "metadata": {},
     "output_type": "display_data"
    },
    {
     "data": {
      "application/vnd.jupyter.widget-view+json": {
       "model_id": "",
       "version_major": 2,
       "version_minor": 0
      },
      "text/plain": [
       "FloatProgress(value=0.0, bar_style='info', description='Progress:', layout=Layout(height='25px', width='50%'),…"
      ]
     },
     "metadata": {},
     "output_type": "display_data"
    },
    {
     "name": "stdout",
     "output_type": "stream",
     "text": [
      "+------+--------+----------+----------+--------------+--------------+----------+\n",
      "|swl_id|storm_id|storm_name|storm_year|  storm_status|storm_category|state_code|\n",
      "+------+--------+----------+----------+--------------+--------------+----------+\n",
      "|     1|AL011953|     ALICE|      1953|tropical storm|tropical storm|        FL|\n",
      "|     2|AL011955|    BRENDA|      1955|tropical storm|tropical storm|        LA|\n",
      "|     3|AL011959|    ARLENE|      1959|tropical storm|tropical storm|        LA|\n",
      "|     4|AL011966|      ALMA|      1966|     hurricane|             1|        FL|\n",
      "|     5|AL011968|      ABBY|      1968|tropical storm|tropical storm|        FL|\n",
      "+------+--------+----------+----------+--------------+--------------+----------+\n",
      "only showing top 5 rows"
     ]
    }
   ],
   "source": [
    "named_atlantic_storms_with_us_landfall.show(5)"
   ]
  },
  {
   "cell_type": "markdown",
   "metadata": {
    "editable": true
   },
   "source": [
    "### Names by Person and Storm"
   ]
  },
  {
   "cell_type": "code",
   "execution_count": 41,
   "metadata": {
    "editable": true,
    "execution": {
     "iopub.execute_input": "2022-10-17T23:17:00.945622Z",
     "iopub.status.busy": "2022-10-17T23:17:00.945111Z",
     "iopub.status.idle": "2022-10-17T23:17:01.272615Z",
     "shell.execute_reply": "2022-10-17T23:17:01.267548Z",
     "shell.execute_reply.started": "2022-10-17T23:17:00.945575Z"
    },
    "tags": []
   },
   "outputs": [
    {
     "data": {
      "application/vnd.jupyter.widget-view+json": {
       "model_id": "c7ffe8bba84d4fea956c05c1579b7b43",
       "version_major": 2,
       "version_minor": 0
      },
      "text/plain": [
       "VBox()"
      ]
     },
     "metadata": {},
     "output_type": "display_data"
    },
    {
     "data": {
      "application/vnd.jupyter.widget-view+json": {
       "model_id": "",
       "version_major": 2,
       "version_minor": 0
      },
      "text/plain": [
       "FloatProgress(value=0.0, bar_style='info', description='Progress:', layout=Layout(height='25px', width='50%'),…"
      ]
     },
     "metadata": {},
     "output_type": "display_data"
    }
   ],
   "source": [
    "storms = named_atlantic_storms_with_us_landfall.alias('storms')\n",
    "names = names_by_state.alias('names')\n",
    "winds_scale = saffir_simpson_hurricane_wind_scale.alias('winds_scale')\n",
    "\n",
    "names_by_person_and_storm = storms.join(names, storms.storm_name == names.birth_name) \\\n",
    ".join(winds_scale, storms.storm_category == winds_scale.category, 'left') \\\n",
    ".select(storms.swl_id, storms.storm_id, names.name_id, storms.storm_name, names.birth_name.alias('baby_name'), storms.storm_year, \n",
    "        names.birth_year.alias('baby_birth_year'), storms.state_code, names.sex.alias('baby_sex'), storms.storm_status, \n",
    "        storms.storm_category, winds_scale.brief_damage_description.alias('storm_damage_description'), names['count'].alias('name_count'))\n",
    "\n",
    "names_by_person_and_storm = names_by_person_and_storm.withColumn('bsn_id', F.row_number().over(Window.partitionBy().orderBy(names_by_person_and_storm.name_count)))\n",
    "\n",
    "names_by_person_and_storm = names_by_person_and_storm.select('bsn_id', 'swl_id', 'storm_id', 'name_id', 'storm_name', 'baby_name', 'storm_year', 'baby_birth_year', \n",
    "                                                             'state_code', 'storm_status', 'storm_category', 'storm_damage_description', 'baby_sex', 'name_count')"
   ]
  },
  {
   "cell_type": "code",
   "execution_count": 42,
   "metadata": {
    "editable": true,
    "execution": {
     "iopub.execute_input": "2022-10-17T23:17:01.278867Z",
     "iopub.status.busy": "2022-10-17T23:17:01.276520Z",
     "iopub.status.idle": "2022-10-17T23:18:12.799884Z",
     "shell.execute_reply": "2022-10-17T23:18:12.798870Z",
     "shell.execute_reply.started": "2022-10-17T23:17:01.278786Z"
    },
    "tags": []
   },
   "outputs": [
    {
     "data": {
      "application/vnd.jupyter.widget-view+json": {
       "model_id": "59b0bac304ad4edd98287c664b04df47",
       "version_major": 2,
       "version_minor": 0
      },
      "text/plain": [
       "VBox()"
      ]
     },
     "metadata": {},
     "output_type": "display_data"
    },
    {
     "data": {
      "application/vnd.jupyter.widget-view+json": {
       "model_id": "",
       "version_major": 2,
       "version_minor": 0
      },
      "text/plain": [
       "FloatProgress(value=0.0, bar_style='info', description='Progress:', layout=Layout(height='25px', width='50%'),…"
      ]
     },
     "metadata": {},
     "output_type": "display_data"
    }
   ],
   "source": [
    "names_by_person_and_storm.write.mode('overwrite').parquet(os.path.join(bucket, 'transformed_data/fact_tables/names_by_person_and_storm_fact.parquet'))"
   ]
  },
  {
   "cell_type": "code",
   "execution_count": 43,
   "metadata": {
    "editable": true,
    "execution": {
     "iopub.execute_input": "2022-10-17T23:18:12.801948Z",
     "iopub.status.busy": "2022-10-17T23:18:12.801424Z",
     "iopub.status.idle": "2022-10-17T23:19:01.591038Z",
     "shell.execute_reply": "2022-10-17T23:19:01.589752Z",
     "shell.execute_reply.started": "2022-10-17T23:18:12.801903Z"
    },
    "tags": []
   },
   "outputs": [
    {
     "data": {
      "application/vnd.jupyter.widget-view+json": {
       "model_id": "9672acf7ff584711865a8395dc2a6891",
       "version_major": 2,
       "version_minor": 0
      },
      "text/plain": [
       "VBox()"
      ]
     },
     "metadata": {},
     "output_type": "display_data"
    },
    {
     "data": {
      "application/vnd.jupyter.widget-view+json": {
       "model_id": "",
       "version_major": 2,
       "version_minor": 0
      },
      "text/plain": [
       "FloatProgress(value=0.0, bar_style='info', description='Progress:', layout=Layout(height='25px', width='50%'),…"
      ]
     },
     "metadata": {},
     "output_type": "display_data"
    },
    {
     "name": "stdout",
     "output_type": "stream",
     "text": [
      "+------+------+--------+-------+----------+---------+----------+---------------+----------+-----------------+-----------------+------------------------+--------+----------+\n",
      "|bsn_id|swl_id|storm_id|name_id|storm_name|baby_name|storm_year|baby_birth_year|state_code|     storm_status|   storm_category|storm_damage_description|baby_sex|name_count|\n",
      "+------+------+--------+-------+----------+---------+----------+---------------+----------+-----------------+-----------------+------------------------+--------+----------+\n",
      "|     1|   245|AL132011|   3429|       LEE|      LEE|      2011|           1910|        LA|subtropical storm|subtropical storm|                    null|       M|        10|\n",
      "|     2|   245|AL132011|   9787|       LEE|      LEE|      2011|           1910|        LA|subtropical storm|subtropical storm|                    null|       M|        10|\n",
      "|     3|   245|AL132011|  17667|       LEE|      LEE|      2011|           1911|        LA|subtropical storm|subtropical storm|                    null|       F|        10|\n",
      "|     4|   245|AL132011|  36297|       LEE|      LEE|      2011|           1912|        LA|subtropical storm|subtropical storm|                    null|       F|        10|\n",
      "|     5|   245|AL132011|  43014|       LEE|      LEE|      2011|           1912|        LA|subtropical storm|subtropical storm|                    null|       M|        10|\n",
      "+------+------+--------+-------+----------+---------+----------+---------------+----------+-----------------+-----------------+------------------------+--------+----------+\n",
      "only showing top 5 rows"
     ]
    }
   ],
   "source": [
    "names_by_person_and_storm.show(5)"
   ]
  },
  {
   "cell_type": "markdown",
   "metadata": {
    "editable": true
   },
   "source": [
    "#### 4.2 Data Quality Checks\n",
    "Explain the data quality checks you'll perform to ensure the pipeline ran as expected. These could include:\n",
    " * Integrity constraints on the relational database (e.g., unique key, data type, etc.)\n",
    " * Unit tests for the scripts to ensure they are doing the right thing\n",
    " * Source/Count checks to ensure completeness\n",
    " \n",
    "Run Quality Checks"
   ]
  },
  {
   "cell_type": "code",
   "execution_count": 44,
   "metadata": {
    "editable": true,
    "execution": {
     "iopub.execute_input": "2022-10-17T23:19:01.593662Z",
     "iopub.status.busy": "2022-10-17T23:19:01.592800Z",
     "iopub.status.idle": "2022-10-17T23:19:11.954635Z",
     "shell.execute_reply": "2022-10-17T23:19:11.953384Z",
     "shell.execute_reply.started": "2022-10-17T23:19:01.593612Z"
    },
    "tags": []
   },
   "outputs": [
    {
     "data": {
      "application/vnd.jupyter.widget-view+json": {
       "model_id": "748a7b720a534b31bf863a30f6cb630f",
       "version_major": 2,
       "version_minor": 0
      },
      "text/plain": [
       "VBox()"
      ]
     },
     "metadata": {},
     "output_type": "display_data"
    },
    {
     "data": {
      "application/vnd.jupyter.widget-view+json": {
       "model_id": "",
       "version_major": 2,
       "version_minor": 0
      },
      "text/plain": [
       "FloatProgress(value=0.0, bar_style='info', description='Progress:', layout=Layout(height='25px', width='50%'),…"
      ]
     },
     "metadata": {},
     "output_type": "display_data"
    },
    {
     "name": "stdout",
     "output_type": "stream",
     "text": [
      "raw_storm_data count before transformations: 55437\n",
      "atlantic_storms count after tranformations: 53501\n",
      "atlantic_storms_header count after tranformations: 1936\n",
      "atlantic_storm_stats count after tranformations: 53501\n",
      "\n",
      "Storms data completeness check passed!"
     ]
    }
   ],
   "source": [
    "print('raw_storm_data count before transformations:', raw_storm_data.count())\n",
    "print('atlantic_storms count after tranformations:', atlantic_storms.count())\n",
    "print('atlantic_storms_header count after tranformations:', atlantic_storms_header.count())\n",
    "print('atlantic_storm_stats count after tranformations:',  atlantic_storm_stats.count())\n",
    "\n",
    "print('\\nStorms data completeness check passed!') if atlantic_storms.count() + atlantic_storms_header.count() == raw_storm_data.count() else print('\\nStorms data completeness \\\n",
    "check failed, some rows may be MIA.')"
   ]
  },
  {
   "cell_type": "code",
   "execution_count": 45,
   "metadata": {
    "editable": true,
    "execution": {
     "iopub.execute_input": "2022-10-17T23:19:11.956413Z",
     "iopub.status.busy": "2022-10-17T23:19:11.955931Z",
     "iopub.status.idle": "2022-10-17T23:20:08.489181Z",
     "shell.execute_reply": "2022-10-17T23:20:08.488044Z",
     "shell.execute_reply.started": "2022-10-17T23:19:11.956372Z"
    },
    "tags": []
   },
   "outputs": [
    {
     "data": {
      "application/vnd.jupyter.widget-view+json": {
       "model_id": "5027243472a0450da579d249915a8509",
       "version_major": 2,
       "version_minor": 0
      },
      "text/plain": [
       "VBox()"
      ]
     },
     "metadata": {},
     "output_type": "display_data"
    },
    {
     "data": {
      "application/vnd.jupyter.widget-view+json": {
       "model_id": "",
       "version_major": 2,
       "version_minor": 0
      },
      "text/plain": [
       "FloatProgress(value=0.0, bar_style='info', description='Progress:', layout=Layout(height='25px', width='50%'),…"
      ]
     },
     "metadata": {},
     "output_type": "display_data"
    },
    {
     "name": "stdout",
     "output_type": "stream",
     "text": [
      "raw_name_data count before transformations: 6311504\n",
      "names_by_state count after tranformations: 6311504\n",
      "\n",
      "Names data completeness check passed!"
     ]
    }
   ],
   "source": [
    "print('raw_name_data count before transformations:', raw_name_data.count())\n",
    "print('names_by_state count after tranformations:', names_by_state.count())\n",
    "\n",
    "print('\\nNames data completeness check passed!') if raw_name_data.count() == names_by_state.count() else print('\\nNames data completeness check failed, some rows may be MIA.')"
   ]
  },
  {
   "cell_type": "code",
   "execution_count": 46,
   "metadata": {
    "editable": true,
    "execution": {
     "iopub.execute_input": "2022-10-17T23:20:08.490838Z",
     "iopub.status.busy": "2022-10-17T23:20:08.490557Z",
     "iopub.status.idle": "2022-10-17T23:20:36.824990Z",
     "shell.execute_reply": "2022-10-17T23:20:36.823410Z",
     "shell.execute_reply.started": "2022-10-17T23:20:08.490809Z"
    },
    "tags": []
   },
   "outputs": [
    {
     "data": {
      "application/vnd.jupyter.widget-view+json": {
       "model_id": "4e9c7df3c4c143f395b9ff9d40f07219",
       "version_major": 2,
       "version_minor": 0
      },
      "text/plain": [
       "VBox()"
      ]
     },
     "metadata": {},
     "output_type": "display_data"
    },
    {
     "data": {
      "application/vnd.jupyter.widget-view+json": {
       "model_id": "",
       "version_major": 2,
       "version_minor": 0
      },
      "text/plain": [
       "FloatProgress(value=0.0, bar_style='info', description='Progress:', layout=Layout(height='25px', width='50%'),…"
      ]
     },
     "metadata": {},
     "output_type": "display_data"
    },
    {
     "name": "stdout",
     "output_type": "stream",
     "text": [
      "raw_state_data count before transformations: 51\n",
      "state_data count after tranformations: 51\n",
      "\n",
      "State data completeness check passed!"
     ]
    }
   ],
   "source": [
    "print('raw_state_data count before transformations:', raw_state_data.count())\n",
    "print('state_data count after tranformations:', state_data.count())\n",
    "\n",
    "print('\\nState data completeness check passed!') if raw_name_data.count() == names_by_state.count() else print('\\nState data completeness check failed, some rows may be MIA.')"
   ]
  },
  {
   "cell_type": "markdown",
   "metadata": {
    "editable": true
   },
   "source": [
    "Atlantic Storm table latitude and longitude quality check"
   ]
  },
  {
   "cell_type": "code",
   "execution_count": 47,
   "metadata": {
    "editable": true,
    "execution": {
     "iopub.execute_input": "2022-10-17T23:20:36.827319Z",
     "iopub.status.busy": "2022-10-17T23:20:36.826613Z",
     "iopub.status.idle": "2022-10-17T23:20:37.087162Z",
     "shell.execute_reply": "2022-10-17T23:20:37.086173Z",
     "shell.execute_reply.started": "2022-10-17T23:20:36.827277Z"
    },
    "tags": []
   },
   "outputs": [
    {
     "data": {
      "application/vnd.jupyter.widget-view+json": {
       "model_id": "c92d4d1ec6dd4595937b7ae4368f97e0",
       "version_major": 2,
       "version_minor": 0
      },
      "text/plain": [
       "VBox()"
      ]
     },
     "metadata": {},
     "output_type": "display_data"
    },
    {
     "data": {
      "application/vnd.jupyter.widget-view+json": {
       "model_id": "",
       "version_major": 2,
       "version_minor": 0
      },
      "text/plain": [
       "FloatProgress(value=0.0, bar_style='info', description='Progress:', layout=Layout(height='25px', width='50%'),…"
      ]
     },
     "metadata": {},
     "output_type": "display_data"
    },
    {
     "name": "stdout",
     "output_type": "stream",
     "text": [
      "storm_data latitude bool: False\n",
      "storm_data longitude bool: False\n",
      "Latitude and longitude quality check passed!"
     ]
    }
   ],
   "source": [
    "lat_bool = str(atlantic_storms['latitude'])[-1:] == 'N'\n",
    "long_bool = str(atlantic_storms['longitude'])[-1:] == 'W'\n",
    "\n",
    "print('storm_data latitude bool:', lat_bool)\n",
    "print('storm_data longitude bool:', long_bool)\n",
    "print('Latitude and longitude quality check passed!') if (lat_bool is False & long_bool is False) else print('Uh oh, your filtering may have excluded some rows.')"
   ]
  },
  {
   "cell_type": "markdown",
   "metadata": {
    "editable": true
   },
   "source": [
    "Quality check for storms with names and landfall in the US"
   ]
  },
  {
   "cell_type": "code",
   "execution_count": 48,
   "metadata": {
    "editable": true,
    "execution": {
     "iopub.execute_input": "2022-10-17T23:20:37.089203Z",
     "iopub.status.busy": "2022-10-17T23:20:37.088478Z",
     "iopub.status.idle": "2022-10-17T23:20:37.686043Z",
     "shell.execute_reply": "2022-10-17T23:20:37.684977Z",
     "shell.execute_reply.started": "2022-10-17T23:20:37.089105Z"
    },
    "tags": []
   },
   "outputs": [
    {
     "data": {
      "application/vnd.jupyter.widget-view+json": {
       "model_id": "add4cd70831d409392004792fcc20697",
       "version_major": 2,
       "version_minor": 0
      },
      "text/plain": [
       "VBox()"
      ]
     },
     "metadata": {},
     "output_type": "display_data"
    },
    {
     "data": {
      "application/vnd.jupyter.widget-view+json": {
       "model_id": "",
       "version_major": 2,
       "version_minor": 0
      },
      "text/plain": [
       "FloatProgress(value=0.0, bar_style='info', description='Progress:', layout=Layout(height='25px', width='50%'),…"
      ]
     },
     "metadata": {},
     "output_type": "display_data"
    },
    {
     "name": "stdout",
     "output_type": "stream",
     "text": [
      "Storms with landfall: 663\n",
      "Storms with landfall in the US: 271\n",
      "Storms with landfall not in the US: 392\n",
      "Named Atlantic Storms with US Landfall completeness check passed!"
     ]
    }
   ],
   "source": [
    "with_state = named_atlantic_storms_with_us_landfall.count() #271\n",
    "total = len(records) # 663\n",
    "print('Storms with landfall:', total)\n",
    "print('Storms with landfall in the US:', with_state)\n",
    "print('Storms with landfall not in the US:', no_state)\n",
    "print('Named Atlantic Storms with US Landfall completeness check passed!') if (with_state + no_state) == total else print('Uh oh, your filtering for Named Atlantic Storms \\\n",
    "with US Landfall may have excluded some rows.')"
   ]
  },
  {
   "cell_type": "markdown",
   "metadata": {
    "editable": true
   },
   "source": [
    "#### 4.3 Data dictionary "
   ]
  },
  {
   "cell_type": "code",
   "execution_count": null,
   "metadata": {},
   "outputs": [],
   "source": [
    "print('capstone_data_dictionary.xlsx')"
   ]
  },
  {
   "cell_type": "markdown",
   "metadata": {
    "editable": true
   },
   "source": [
    "#### 4.4. Data Validation"
   ]
  },
  {
   "cell_type": "code",
   "execution_count": 50,
   "metadata": {
    "editable": true,
    "execution": {
     "iopub.execute_input": "2022-10-17T23:20:37.980912Z",
     "iopub.status.busy": "2022-10-17T23:20:37.980288Z",
     "iopub.status.idle": "2022-10-17T23:20:40.675584Z",
     "shell.execute_reply": "2022-10-17T23:20:40.670667Z",
     "shell.execute_reply.started": "2022-10-17T23:20:37.980836Z"
    },
    "tags": []
   },
   "outputs": [
    {
     "data": {
      "application/vnd.jupyter.widget-view+json": {
       "model_id": "94a07e2f7dd14ad1b185c24d23e30642",
       "version_major": 2,
       "version_minor": 0
      },
      "text/plain": [
       "VBox()"
      ]
     },
     "metadata": {},
     "output_type": "display_data"
    },
    {
     "data": {
      "application/vnd.jupyter.widget-view+json": {
       "model_id": "",
       "version_major": 2,
       "version_minor": 0
      },
      "text/plain": [
       "FloatProgress(value=0.0, bar_style='info', description='Progress:', layout=Layout(height='25px', width='50%'),…"
      ]
     },
     "metadata": {},
     "output_type": "display_data"
    },
    {
     "name": "stdout",
     "output_type": "stream",
     "text": [
      "+------+------+--------+-------+----------+---------+----------+---------------+----------+------------+--------------+------------------------+--------+----------+\n",
      "|bsn_id|swl_id|storm_id|name_id|storm_name|baby_name|storm_year|baby_birth_year|state_code|storm_status|storm_category|storm_damage_description|baby_sex|name_count|\n",
      "+------+------+--------+-------+----------+---------+----------+---------------+----------+------------+--------------+------------------------+--------+----------+\n",
      "|     1|    83|AL041992|  71592|    ANDREW|   ANDREW|      1992|           1913|        FL|   hurricane|       5-MAJOR|    Catastrophic dama...|       M|        10|\n",
      "|     2|    83|AL041992|  77047|    ANDREW|   ANDREW|      1992|           1913|        FL|   hurricane|       5-MAJOR|    Catastrophic dama...|       M|        10|\n",
      "|     3|    83|AL041992|  77918|    ANDREW|   ANDREW|      1992|           1913|        FL|   hurricane|       5-MAJOR|    Catastrophic dama...|       M|        10|\n",
      "|     4|    83|AL041992|  86326|    ANDREW|   ANDREW|      1992|           1914|        FL|   hurricane|       5-MAJOR|    Catastrophic dama...|       M|        10|\n",
      "|     5|    83|AL041992| 103684|    ANDREW|   ANDREW|      1992|           1914|        FL|   hurricane|       5-MAJOR|    Catastrophic dama...|       M|        10|\n",
      "+------+------+--------+-------+----------+---------+----------+---------------+----------+------------+--------------+------------------------+--------+----------+\n",
      "only showing top 5 rows"
     ]
    }
   ],
   "source": [
    "names_by_person_and_storm_fact = spark.read.parquet(os.path.join(bucket, '*', '*', 'names_by_person_and_storm_fact.parquet'))\n",
    "names_by_person_and_storm_fact.show(5)"
   ]
  },
  {
   "cell_type": "code",
   "execution_count": 51,
   "metadata": {
    "execution": {
     "iopub.execute_input": "2022-10-17T23:20:40.772165Z",
     "iopub.status.busy": "2022-10-17T23:20:40.770409Z",
     "iopub.status.idle": "2022-10-17T23:20:41.858357Z",
     "shell.execute_reply": "2022-10-17T23:20:41.856314Z",
     "shell.execute_reply.started": "2022-10-17T23:20:40.772127Z"
    }
   },
   "outputs": [
    {
     "data": {
      "application/vnd.jupyter.widget-view+json": {
       "model_id": "1690f152e1d345dc8068cf8d336c57c6",
       "version_major": 2,
       "version_minor": 0
      },
      "text/plain": [
       "VBox()"
      ]
     },
     "metadata": {},
     "output_type": "display_data"
    },
    {
     "data": {
      "application/vnd.jupyter.widget-view+json": {
       "model_id": "",
       "version_major": 2,
       "version_minor": 0
      },
      "text/plain": [
       "FloatProgress(value=0.0, bar_style='info', description='Progress:', layout=Layout(height='25px', width='50%'),…"
      ]
     },
     "metadata": {},
     "output_type": "display_data"
    }
   ],
   "source": [
    "fact_table = names_by_person_and_storm_fact.withColumn('name_count', F.col('name_count').cast(IntegerType()))"
   ]
  },
  {
   "cell_type": "code",
   "execution_count": 56,
   "metadata": {
    "execution": {
     "iopub.execute_input": "2022-10-17T23:22:03.890043Z",
     "iopub.status.busy": "2022-10-17T23:22:03.889556Z",
     "iopub.status.idle": "2022-10-17T23:22:15.867492Z",
     "shell.execute_reply": "2022-10-17T23:22:15.865314Z",
     "shell.execute_reply.started": "2022-10-17T23:22:03.890003Z"
    },
    "tags": []
   },
   "outputs": [
    {
     "data": {
      "application/vnd.jupyter.widget-view+json": {
       "model_id": "594197c682484f4088adb1ad7242a802",
       "version_major": 2,
       "version_minor": 0
      },
      "text/plain": [
       "VBox()"
      ]
     },
     "metadata": {},
     "output_type": "display_data"
    },
    {
     "data": {
      "application/vnd.jupyter.widget-view+json": {
       "model_id": "",
       "version_major": 2,
       "version_minor": 0
      },
      "text/plain": [
       "FloatProgress(value=0.0, bar_style='info', description='Progress:', layout=Layout(height='25px', width='50%'),…"
      ]
     },
     "metadata": {},
     "output_type": "display_data"
    },
    {
     "name": "stdout",
     "output_type": "stream",
     "text": [
      "+----------+----------+--------------------+--------------------+---------+---------------+----------+---------------+\n",
      "|storm_name|storm_year|        storm_status|      storm_category|baby_name|baby_birth_year|state_code|max(name_count)|\n",
      "+----------+----------+--------------------+--------------------+---------+---------------+----------+---------------+\n",
      "|   ALLISON|      2001|subtropical depre...|subtropical depre...|  ALLISON|           1999|        LA|            572|\n",
      "|   ALLISON|      2001|subtropical depre...|subtropical depre...|  ALLISON|           2000|        LA|            538|\n",
      "|   ALLISON|      2001|subtropical depre...|subtropical depre...|  ALLISON|           2001|        LA|            539|\n",
      "|   ALLISON|      2001|subtropical depre...|subtropical depre...|  ALLISON|           2003|        LA|            545|\n",
      "+----------+----------+--------------------+--------------------+---------+---------------+----------+---------------+"
     ]
    }
   ],
   "source": [
    "df1 = fact_table.filter(((F.col('storm_year') == 2001) & (F.col('storm_name') == 'ALLISON')  & (F.col('state_code') == 'LA')) & ((fact_table.baby_birth_year == 1999) | \\\n",
    "                                    (fact_table.baby_birth_year == 2000) | (fact_table.baby_birth_year == 2001) | (fact_table.baby_birth_year == 2003)))\n",
    "qry1 = df1.groupBy(df1.storm_name, df1.storm_year, df1.storm_status,  df1.storm_category,  df1.baby_name, df1.baby_birth_year, \\\n",
    "                  df1.state_code).agg({'name_count': 'max'}).sort('baby_birth_year')\n",
    "qry1.show()"
   ]
  },
  {
   "cell_type": "code",
   "execution_count": 53,
   "metadata": {
    "execution": {
     "iopub.execute_input": "2022-10-17T23:20:43.476545Z",
     "iopub.status.busy": "2022-10-17T23:20:43.475932Z",
     "iopub.status.idle": "2022-10-17T23:20:47.267648Z",
     "shell.execute_reply": "2022-10-17T23:20:47.265062Z",
     "shell.execute_reply.started": "2022-10-17T23:20:43.476505Z"
    },
    "tags": []
   },
   "outputs": [
    {
     "data": {
      "application/vnd.jupyter.widget-view+json": {
       "model_id": "16bca52598f54cb3bc22a7b58815057c",
       "version_major": 2,
       "version_minor": 0
      },
      "text/plain": [
       "VBox()"
      ]
     },
     "metadata": {},
     "output_type": "display_data"
    },
    {
     "data": {
      "application/vnd.jupyter.widget-view+json": {
       "model_id": "",
       "version_major": 2,
       "version_minor": 0
      },
      "text/plain": [
       "FloatProgress(value=0.0, bar_style='info', description='Progress:', layout=Layout(height='25px', width='50%'),…"
      ]
     },
     "metadata": {},
     "output_type": "display_data"
    },
    {
     "name": "stdout",
     "output_type": "stream",
     "text": [
      "+----------+----------+------------+--------------+---------+---------------+----------+---------------+\n",
      "|storm_name|storm_year|storm_status|storm_category|baby_name|baby_birth_year|state_code|max(name_count)|\n",
      "+----------+----------+------------+--------------+---------+---------------+----------+---------------+\n",
      "|    ISAIAS|      2020|   hurricane|             1|   ISAIAS|           2019|        NC|            129|\n",
      "|    ISAIAS|      2020|   hurricane|             1|   ISAIAS|           2020|        NC|            139|\n",
      "|    ISAIAS|      2020|   hurricane|             1|   ISAIAS|           2021|        NC|            127|\n",
      "+----------+----------+------------+--------------+---------+---------------+----------+---------------+"
     ]
    }
   ],
   "source": [
    "df2 = fact_table.filter(((F.col('storm_year') == 2020) & (F.col('storm_name') == 'ISAIAS')) & ((fact_table.baby_birth_year == 2019) | \\\n",
    "                                    (fact_table.baby_birth_year == 2020) | (fact_table.baby_birth_year == 2021)))\n",
    "qry2 = df2.groupBy(df2.storm_name, df2.storm_year, df2.storm_status,  df2.storm_category,  df2.baby_name, df2.baby_birth_year, df2.state_code).agg({'name_count': 'max'}) \\\n",
    ".sort('baby_birth_year')\n",
    "qry2.show()"
   ]
  },
  {
   "cell_type": "code",
   "execution_count": 54,
   "metadata": {
    "execution": {
     "iopub.execute_input": "2022-10-17T23:20:47.272969Z",
     "iopub.status.busy": "2022-10-17T23:20:47.272629Z",
     "iopub.status.idle": "2022-10-17T23:20:49.449470Z",
     "shell.execute_reply": "2022-10-17T23:20:49.448375Z",
     "shell.execute_reply.started": "2022-10-17T23:20:47.272937Z"
    }
   },
   "outputs": [
    {
     "data": {
      "application/vnd.jupyter.widget-view+json": {
       "model_id": "c14eb4be184d4c70acac540745f8c33b",
       "version_major": 2,
       "version_minor": 0
      },
      "text/plain": [
       "VBox()"
      ]
     },
     "metadata": {},
     "output_type": "display_data"
    },
    {
     "data": {
      "application/vnd.jupyter.widget-view+json": {
       "model_id": "",
       "version_major": 2,
       "version_minor": 0
      },
      "text/plain": [
       "FloatProgress(value=0.0, bar_style='info', description='Progress:', layout=Layout(height='25px', width='50%'),…"
      ]
     },
     "metadata": {},
     "output_type": "display_data"
    },
    {
     "name": "stdout",
     "output_type": "stream",
     "text": [
      "+----------+----------+------------+--------------+---------+---------------+----------+---------------+\n",
      "|storm_name|storm_year|storm_status|storm_category|baby_name|baby_birth_year|state_code|max(name_count)|\n",
      "+----------+----------+------------+--------------+---------+---------------+----------+---------------+\n",
      "|    DENNIS|      2005|   hurricane|       3-MAJOR|   DENNIS|           2004|        FL|            114|\n",
      "|    DENNIS|      2005|   hurricane|       3-MAJOR|   DENNIS|           2005|        FL|            106|\n",
      "|    DENNIS|      2005|   hurricane|       3-MAJOR|   DENNIS|           2006|        FL|            118|\n",
      "|    DENNIS|      2005|   hurricane|       3-MAJOR|   DENNIS|           2010|        FL|             76|\n",
      "+----------+----------+------------+--------------+---------+---------------+----------+---------------+"
     ]
    }
   ],
   "source": [
    "df3 = fact_table.filter(((F.col('storm_year') == 2005) & (F.col('storm_name') == 'DENNIS')) & ((fact_table.baby_birth_year == 2004) | \\\n",
    "                                    (fact_table.baby_birth_year == 2005) | (fact_table.baby_birth_year == 2006) | (fact_table.baby_birth_year == 2010)))\n",
    "qry3 = df3.groupBy(df3.storm_name, df3.storm_year, df3.storm_status,  df3.storm_category,  df3.baby_name, df3.baby_birth_year, df3.state_code).agg({'name_count': 'max'}) \\\n",
    ".sort('baby_birth_year')\n",
    "qry3.show()"
   ]
  },
  {
   "cell_type": "code",
   "execution_count": 55,
   "metadata": {
    "execution": {
     "iopub.execute_input": "2022-10-17T23:20:49.451357Z",
     "iopub.status.busy": "2022-10-17T23:20:49.450998Z",
     "iopub.status.idle": "2022-10-17T23:20:51.456649Z",
     "shell.execute_reply": "2022-10-17T23:20:51.455377Z",
     "shell.execute_reply.started": "2022-10-17T23:20:49.451315Z"
    }
   },
   "outputs": [
    {
     "data": {
      "application/vnd.jupyter.widget-view+json": {
       "model_id": "a2da015e40694224b889eac800bea948",
       "version_major": 2,
       "version_minor": 0
      },
      "text/plain": [
       "VBox()"
      ]
     },
     "metadata": {},
     "output_type": "display_data"
    },
    {
     "data": {
      "application/vnd.jupyter.widget-view+json": {
       "model_id": "",
       "version_major": 2,
       "version_minor": 0
      },
      "text/plain": [
       "FloatProgress(value=0.0, bar_style='info', description='Progress:', layout=Layout(height='25px', width='50%'),…"
      ]
     },
     "metadata": {},
     "output_type": "display_data"
    },
    {
     "name": "stdout",
     "output_type": "stream",
     "text": [
      "+----------+----------+--------------+--------------+---------+---------------+----------+---------------+\n",
      "|storm_name|storm_year|  storm_status|storm_category|baby_name|baby_birth_year|state_code|max(name_count)|\n",
      "+----------+----------+--------------+--------------+---------+---------------+----------+---------------+\n",
      "|    HARVEY|      2017|tropical storm|tropical storm|   HARVEY|           2015|        LA|             95|\n",
      "|    HARVEY|      2017|tropical storm|tropical storm|   HARVEY|           2016|        LA|             83|\n",
      "|    HARVEY|      2017|tropical storm|tropical storm|   HARVEY|           2017|        LA|             91|\n",
      "|    HARVEY|      2017|tropical storm|tropical storm|   HARVEY|           2018|        LA|             53|\n",
      "+----------+----------+--------------+--------------+---------+---------------+----------+---------------+"
     ]
    }
   ],
   "source": [
    "df4 = fact_table.filter(((F.col('storm_year') == 2017) & (F.col('storm_name') == 'HARVEY')  & (F.col('state_code') == 'LA')) & ((fact_table.baby_birth_year == 2015) | \\\n",
    "                                    (fact_table.baby_birth_year == 2016) | (fact_table.baby_birth_year == 2017) | (fact_table.baby_birth_year == 2018)))\n",
    "qry4 = df4.groupBy(df4.storm_name, df4.storm_year, df4.storm_status,  df4.storm_category,  df4.baby_name, df4.baby_birth_year, df4.state_code).agg({'name_count': 'max'}) \\\n",
    ".sort('baby_birth_year')\n",
    "qry4.show()"
   ]
  },
  {
   "cell_type": "markdown",
   "metadata": {
    "editable": true
   },
   "source": [
    "#### Step 5: Complete Project Write Up\n",
    "**Rationale for the choice of tools and technologies**<br>\n",
    "Initially, Spark and Hadoop were chosen to carry out the big-data related tasks. A combination because Spark is faster than Hadoop but Hadoop has a distributed file system that Spark lacks. Udacity focused on using Spark with Hadoop during the lessons so this was more familiar; however, Spark proved to be a poor choice for the data given it's size. When comparing the performance of comparable functionaility in Pandas and Spark, Spark took on average 7 times longer than Pandas to execute. For this reason, where applicable transformations are executed in Pandas and then the data is converted to a Spark dataframe.<br>\n",
    "**How often the data should be updated and why?**<br>\n",
    "The name data and storm data would most likely be updated yearly; the state data and wind_scale data are stagnant for the time being. Updating more frquently than annually would be a gross misuse of resources.<br>"
   ]
  },
  {
   "cell_type": "markdown",
   "metadata": {
    "editable": true
   },
   "source": [
    "#### Write a description of how you would approach the problem differently under the following scenarios:\n",
    "**The data was increased by 100x.** <br>\n",
    "I would reconsider using ALL Spark with more nodes as I believe it would be more performant handling the data of that size. <br>\n",
    "**The data populates a dashboard that must be updated on a daily basis by 7am every day.** <br>\n",
    "I would use airflow to set up a scheduled run while strongly discouraging updating the data on that schedule. <br>\n",
    "**The database needed to be accessed by 100+ people.** <br>\n",
    "As the data is in S3 I don't forsee this being an issue. Per Amazon's documentation, S3 can handle up to 5,500 GET requests per seconds and allows concurrent access. Using Spark to perform real time queries would run great in this situation. If a team of analyst want to work with the data in a database the onus would be on them to set one up using the transformed data from S3."
   ]
  }
 ],
 "metadata": {
  "kernelspec": {
   "display_name": "PySpark",
   "language": "",
   "name": "pysparkkernel"
  },
  "language_info": {
   "codemirror_mode": {
    "name": "python",
    "version": 2
   },
   "mimetype": "text/x-python",
   "name": "pyspark",
   "pygments_lexer": "python2"
  }
 },
 "nbformat": 4,
 "nbformat_minor": 4
}
